{
 "cells": [
  {
   "cell_type": "markdown",
   "id": "3f60a7af",
   "metadata": {},
   "source": [
    "# Python Program to Print the Fibonacci sequence "
   ]
  },
  {
   "cell_type": "code",
   "execution_count": 4,
   "id": "0d175903",
   "metadata": {
    "scrolled": false
   },
   "outputs": [
    {
     "name": "stdout",
     "output_type": "stream",
     "text": [
      "Enter number of terms of fib sequence you want to print : 5\n",
      "0\n",
      "1\n",
      "1\n",
      "2\n",
      "3\n"
     ]
    }
   ],
   "source": [
    "def operation(n):\n",
    "    prv1=0\n",
    "    prv2=1\n",
    "    for i in range(n):\n",
    "        if i==0:\n",
    "            print(0)\n",
    "        elif i==1:\n",
    "            print(1)\n",
    "        else:\n",
    "            t=prv1+prv2\n",
    "            prv1=prv2\n",
    "            prv2=t\n",
    "            print(prv2)\n",
    "operation(int(input(\"Enter number of terms of fib sequence you want to print : \")))"
   ]
  }
 ],
 "metadata": {
  "kernelspec": {
   "display_name": "Python 3 (ipykernel)",
   "language": "python",
   "name": "python3"
  },
  "language_info": {
   "codemirror_mode": {
    "name": "ipython",
    "version": 3
   },
   "file_extension": ".py",
   "mimetype": "text/x-python",
   "name": "python",
   "nbconvert_exporter": "python",
   "pygments_lexer": "ipython3",
   "version": "3.11.1"
  }
 },
 "nbformat": 4,
 "nbformat_minor": 5
}
