{
 "cells": [
  {
   "cell_type": "markdown",
   "id": "5d6def08",
   "metadata": {},
   "source": [
    "# Python Program to Print all multiples of 3 and 5 in an Interval "
   ]
  },
  {
   "cell_type": "code",
   "execution_count": null,
   "id": "6a808c0a",
   "metadata": {},
   "outputs": [
    {
     "name": "stdout",
     "output_type": "stream",
     "text": [
      "Enter lower limit : 1\n"
     ]
    }
   ],
   "source": [
    "def operation(l,u):\n",
    "    for i in range(l,u+1):\n",
    "        if(not(i%3) and not(i%5)):\n",
    "            print(i)\n",
    "operation(int(input(\"Enter lower limit : \")),int(input(\"Enter upper limit : \")))"
   ]
  },
  {
   "cell_type": "code",
   "execution_count": null,
   "id": "0130c744",
   "metadata": {},
   "outputs": [],
   "source": []
  }
 ],
 "metadata": {
  "kernelspec": {
   "display_name": "Python 3 (ipykernel)",
   "language": "python",
   "name": "python3"
  },
  "language_info": {
   "codemirror_mode": {
    "name": "ipython",
    "version": 3
   },
   "file_extension": ".py",
   "mimetype": "text/x-python",
   "name": "python",
   "nbconvert_exporter": "python",
   "pygments_lexer": "ipython3",
   "version": "3.11.1"
  }
 },
 "nbformat": 4,
 "nbformat_minor": 5
}
