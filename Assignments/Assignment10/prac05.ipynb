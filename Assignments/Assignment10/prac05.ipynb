{
 "cells": [
  {
   "cell_type": "markdown",
   "id": "d9bcaf26",
   "metadata": {},
   "source": [
    "# Python Program to Check Armstrong Number "
   ]
  },
  {
   "cell_type": "code",
   "execution_count": 10,
   "id": "644bf989",
   "metadata": {},
   "outputs": [
    {
     "name": "stdout",
     "output_type": "stream",
     "text": [
      "Enter the number : 1634\n",
      "Armstrong\n"
     ]
    }
   ],
   "source": [
    "def operation(n):\n",
    "    t=n\n",
    "    s=l=0\n",
    "    while(t!=0):\n",
    "        l+=1\n",
    "        t//=10\n",
    "    t=n\n",
    "    while(t!=0):\n",
    "        s+=(t%10)**l\n",
    "        t//=10\n",
    "    print(\"Armstrong\") if (n==s) else print(\"Not Armstrong\")\n",
    "operation(int(input(\"Enter the number : \")))"
   ]
  }
 ],
 "metadata": {
  "kernelspec": {
   "display_name": "Python 3 (ipykernel)",
   "language": "python",
   "name": "python3"
  },
  "language_info": {
   "codemirror_mode": {
    "name": "ipython",
    "version": 3
   },
   "file_extension": ".py",
   "mimetype": "text/x-python",
   "name": "python",
   "nbconvert_exporter": "python",
   "pygments_lexer": "ipython3",
   "version": "3.11.1"
  }
 },
 "nbformat": 4,
 "nbformat_minor": 5
}
