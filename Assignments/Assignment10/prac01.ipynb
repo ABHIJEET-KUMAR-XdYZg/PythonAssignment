{
 "cells": [
  {
   "cell_type": "markdown",
   "id": "fe296b4b",
   "metadata": {},
   "source": [
    "# Python Program to Check Palindrome Number "
   ]
  },
  {
   "cell_type": "code",
   "execution_count": 5,
   "id": "ff1c29a8",
   "metadata": {},
   "outputs": [
    {
     "name": "stdout",
     "output_type": "stream",
     "text": [
      "Enter the number : 12325\n",
      "Entered number is not palidrome\n"
     ]
    }
   ],
   "source": [
    "def operation(n):\n",
    "    l=len(n)\n",
    "    for i in range(l//2):\n",
    "        if(n[i]!=n[l-i-1]):\n",
    "            return False\n",
    "    return True\n",
    "print(\"Entered number is palidrome\") if operation(input(\"Enter the number : \")) else print(\"Entered number is not palidrome\")"
   ]
  },
  {
   "cell_type": "code",
   "execution_count": null,
   "id": "fdd3f7eb",
   "metadata": {},
   "outputs": [],
   "source": []
  }
 ],
 "metadata": {
  "kernelspec": {
   "display_name": "Python 3 (ipykernel)",
   "language": "python",
   "name": "python3"
  },
  "language_info": {
   "codemirror_mode": {
    "name": "ipython",
    "version": 3
   },
   "file_extension": ".py",
   "mimetype": "text/x-python",
   "name": "python",
   "nbconvert_exporter": "python",
   "pygments_lexer": "ipython3",
   "version": "3.11.1"
  }
 },
 "nbformat": 4,
 "nbformat_minor": 5
}
