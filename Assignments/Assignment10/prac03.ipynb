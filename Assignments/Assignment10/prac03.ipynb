{
 "cells": [
  {
   "cell_type": "markdown",
   "id": "ce680c47",
   "metadata": {},
   "source": [
    "# Python Program to Find the Factorial of a Number "
   ]
  },
  {
   "cell_type": "code",
   "execution_count": 2,
   "id": "2a030010",
   "metadata": {},
   "outputs": [
    {
     "name": "stdout",
     "output_type": "stream",
     "text": [
      "Enter the number : 2\n",
      "2\n"
     ]
    }
   ],
   "source": [
    "def factorial(n):\n",
    "    if(n<0):\n",
    "        print(\"Invalid input\")\n",
    "        exit(0)\n",
    "    p=1\n",
    "    for i in range(2,n+1):\n",
    "        p*=i;\n",
    "    return p\n",
    "print(factorial(int(input(\"Enter the number : \"))))"
   ]
  }
 ],
 "metadata": {
  "kernelspec": {
   "display_name": "Python 3 (ipykernel)",
   "language": "python",
   "name": "python3"
  },
  "language_info": {
   "codemirror_mode": {
    "name": "ipython",
    "version": 3
   },
   "file_extension": ".py",
   "mimetype": "text/x-python",
   "name": "python",
   "nbconvert_exporter": "python",
   "pygments_lexer": "ipython3",
   "version": "3.11.1"
  }
 },
 "nbformat": 4,
 "nbformat_minor": 5
}
