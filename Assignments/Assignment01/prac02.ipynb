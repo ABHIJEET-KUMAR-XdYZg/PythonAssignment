{
 "cells": [
  {
   "cell_type": "markdown",
   "id": "94e46add",
   "metadata": {},
   "source": [
    "# List Some Mega Projects hosted in Python "
   ]
  },
  {
   "cell_type": "markdown",
   "id": "38661c6a",
   "metadata": {},
   "source": [
    "1) Database Projects: Management Systems (Library, Hotel, Hospital, School) \n",
    "\n",
    "2) ML Projects: Classification \n",
    "\n",
    "3) AI Projects: Chatbots, face detection and recognition, speech recognition, Security \n",
    "\n",
    "4) Data Science Projects: Global Terrorism Analysis, Call Data Record Analysis "
   ]
  }
 ],
 "metadata": {
  "kernelspec": {
   "display_name": "Python 3 (ipykernel)",
   "language": "python",
   "name": "python3"
  },
  "language_info": {
   "codemirror_mode": {
    "name": "ipython",
    "version": 3
   },
   "file_extension": ".py",
   "mimetype": "text/x-python",
   "name": "python",
   "nbconvert_exporter": "python",
   "pygments_lexer": "ipython3",
   "version": "3.11.1"
  }
 },
 "nbformat": 4,
 "nbformat_minor": 5
}
