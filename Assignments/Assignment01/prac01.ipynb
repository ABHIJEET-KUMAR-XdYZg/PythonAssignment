{
 "cells": [
  {
   "cell_type": "markdown",
   "id": "63c0afd0",
   "metadata": {},
   "source": [
    "Install Python on your Local Operating System \n",
    "\n",
    "https://youtu.be/M5ILgNI0iXw (python installation) \n",
    "\n",
    "https://youtu.be/SBOFnzVuzOE (vim Editor) "
   ]
  },
  {
   "cell_type": "code",
   "execution_count": null,
   "id": "c7fe3040",
   "metadata": {},
   "outputs": [],
   "source": [
    "DONE"
   ]
  }
 ],
 "metadata": {
  "kernelspec": {
   "display_name": "Python 3 (ipykernel)",
   "language": "python",
   "name": "python3"
  },
  "language_info": {
   "codemirror_mode": {
    "name": "ipython",
    "version": 3
   },
   "file_extension": ".py",
   "mimetype": "text/x-python",
   "name": "python",
   "nbconvert_exporter": "python",
   "pygments_lexer": "ipython3",
   "version": "3.11.1"
  }
 },
 "nbformat": 4,
 "nbformat_minor": 5
}
