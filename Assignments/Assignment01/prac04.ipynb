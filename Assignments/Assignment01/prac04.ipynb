{
 "cells": [
  {
   "cell_type": "markdown",
   "id": "0c15318f",
   "metadata": {},
   "source": [
    "# Create a Program and execute a script in Python  "
   ]
  },
  {
   "cell_type": "code",
   "execution_count": 2,
   "id": "6307f8b0",
   "metadata": {},
   "outputs": [
    {
     "name": "stdout",
     "output_type": "stream",
     "text": [
      "Hello World\n",
      "Sum is 50\n"
     ]
    }
   ],
   "source": [
    "print(\"Hello World\")\n",
    "a=45\n",
    "b=5\n",
    "c=a+b\n",
    "print(\"Sum is\",c)"
   ]
  }
 ],
 "metadata": {
  "kernelspec": {
   "display_name": "Python 3 (ipykernel)",
   "language": "python",
   "name": "python3"
  },
  "language_info": {
   "codemirror_mode": {
    "name": "ipython",
    "version": 3
   },
   "file_extension": ".py",
   "mimetype": "text/x-python",
   "name": "python",
   "nbconvert_exporter": "python",
   "pygments_lexer": "ipython3",
   "version": "3.11.1"
  }
 },
 "nbformat": 4,
 "nbformat_minor": 5
}
