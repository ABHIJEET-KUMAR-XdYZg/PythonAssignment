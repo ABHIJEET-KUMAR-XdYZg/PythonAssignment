{
 "cells": [
  {
   "cell_type": "markdown",
   "id": "56634253",
   "metadata": {},
   "source": [
    "# Write a Python program to input marks of five subjects Physics, Chemistry, Biology, Mathematics and Computer. Calculate percentage and grade according to following:  \n",
    "\n",
    "                   Percentage >= 90% : Grade A \n",
    "\n",
    "                   Percentage >= 80% : Grade B  \n",
    "\n",
    "                   Percentage >= 70% : Grade C  \n",
    "\n",
    "                   Percentage >= 60% : Grade D  \n",
    "\n",
    "                   Percentage >= 40% : Grade E  \n",
    "\n",
    "                   Percentage < 40% : Grade F "
   ]
  },
  {
   "cell_type": "code",
   "execution_count": 6,
   "id": "0ed16f24",
   "metadata": {},
   "outputs": [
    {
     "name": "stdout",
     "output_type": "stream",
     "text": [
      "Enter marks in Physics : 100\n",
      "Enter marks in Chemistry : 100\n",
      "Enter marks in Biology : 100\n",
      "Enter marks in Mathematics : 100\n",
      "Enter marks in Computer : 100\n",
      "Percentage : 100.0% and Grade : A\n"
     ]
    }
   ],
   "source": [
    "def operation():\n",
    "    dic={\n",
    "        1:\"Physics\",\n",
    "        2:\"Chemistry\",\n",
    "        3:\"Biology\",\n",
    "        4:\"Mathematics\",\n",
    "        5:\"Computer\"\n",
    "    }\n",
    "    l=[]\n",
    "    for i in range(5):\n",
    "        l.append(int(input(f\"Enter marks in {dic[i+1]} : \")))\n",
    "    s=sum(l)/5\n",
    "    if(s>=90):\n",
    "        g='A'\n",
    "    elif(s>=80):\n",
    "        g='B'\n",
    "    elif(s>=70):\n",
    "        g='C'\n",
    "    elif(s>=60):\n",
    "        g='D'\n",
    "    elif(s>=40):\n",
    "        g='E'\n",
    "    else:\n",
    "        g='F'\n",
    "    print(f\"Percentage : {s}% and Grade : {g}\")\n",
    "operation()"
   ]
  }
 ],
 "metadata": {
  "kernelspec": {
   "display_name": "Python 3 (ipykernel)",
   "language": "python",
   "name": "python3"
  },
  "language_info": {
   "codemirror_mode": {
    "name": "ipython",
    "version": 3
   },
   "file_extension": ".py",
   "mimetype": "text/x-python",
   "name": "python",
   "nbconvert_exporter": "python",
   "pygments_lexer": "ipython3",
   "version": "3.11.1"
  }
 },
 "nbformat": 4,
 "nbformat_minor": 5
}
