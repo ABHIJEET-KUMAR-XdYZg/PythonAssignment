{
 "cells": [
  {
   "cell_type": "markdown",
   "id": "b7aaf1eb",
   "metadata": {},
   "source": [
    "# Write a Python program to check whether a character is alphabet or not. "
   ]
  },
  {
   "cell_type": "code",
   "execution_count": null,
   "id": "2f5d3ec4",
   "metadata": {},
   "outputs": [],
   "source": [
    "c=input(\"Enter the character : \")\n",
    "if((c>=65 and c<=))"
   ]
  }
 ],
 "metadata": {
  "kernelspec": {
   "display_name": "Python 3 (ipykernel)",
   "language": "python",
   "name": "python3"
  },
  "language_info": {
   "codemirror_mode": {
    "name": "ipython",
    "version": 3
   },
   "file_extension": ".py",
   "mimetype": "text/x-python",
   "name": "python",
   "nbconvert_exporter": "python",
   "pygments_lexer": "ipython3",
   "version": "3.11.1"
  }
 },
 "nbformat": 4,
 "nbformat_minor": 5
}
