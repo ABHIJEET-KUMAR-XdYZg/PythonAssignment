{
 "cells": [
  {
   "cell_type": "markdown",
   "id": "cd8740ae",
   "metadata": {},
   "source": [
    "# Write a Python program to input all sides of a triangle and check whether triangle is valid or not. "
   ]
  },
  {
   "cell_type": "code",
   "execution_count": null,
   "id": "5672f248",
   "metadata": {},
   "outputs": [],
   "source": [
    "for i in range(3):\n",
    "    l.append(int(input(f\"Enter side length of side {i+1} : \")))\n",
    "if(l[0]+l[1]>l[2] and l[1]+l[2]>l[0] and l[2]+l[0]>l[1]):\n",
    "    print(\"Valid triangle\")\n",
    "else:\n",
    "    print(\"Invalid traingle\")"
   ]
  }
 ],
 "metadata": {
  "kernelspec": {
   "display_name": "Python 3 (ipykernel)",
   "language": "python",
   "name": "python3"
  },
  "language_info": {
   "codemirror_mode": {
    "name": "ipython",
    "version": 3
   },
   "file_extension": ".py",
   "mimetype": "text/x-python",
   "name": "python",
   "nbconvert_exporter": "python",
   "pygments_lexer": "ipython3",
   "version": "3.11.1"
  }
 },
 "nbformat": 4,
 "nbformat_minor": 5
}
