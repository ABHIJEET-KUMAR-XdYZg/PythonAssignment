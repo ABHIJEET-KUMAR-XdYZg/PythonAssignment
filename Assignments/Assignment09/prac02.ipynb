{
 "cells": [
  {
   "cell_type": "markdown",
   "id": "421c3743",
   "metadata": {},
   "source": [
    "# Write a Python program to check whether a number is divisible by 5 and 11 or not. "
   ]
  },
  {
   "cell_type": "code",
   "execution_count": 2,
   "id": "0a048ecf",
   "metadata": {},
   "outputs": [
    {
     "name": "stdout",
     "output_type": "stream",
     "text": [
      "Enter the number : 55\n",
      "Entered number is not divisible\n"
     ]
    }
   ],
   "source": [
    "n=int(input(\"Enter the number : \"))\n",
    "if(n%5 and n%11):\n",
    "    print(\"Entered number is divisible by 5 and 11\")\n",
    "else:\n",
    "    print(\"Entered number is not divisible\")"
   ]
  },
  {
   "cell_type": "code",
   "execution_count": null,
   "id": "ec975673",
   "metadata": {},
   "outputs": [],
   "source": []
  }
 ],
 "metadata": {
  "kernelspec": {
   "display_name": "Python 3 (ipykernel)",
   "language": "python",
   "name": "python3"
  },
  "language_info": {
   "codemirror_mode": {
    "name": "ipython",
    "version": 3
   },
   "file_extension": ".py",
   "mimetype": "text/x-python",
   "name": "python",
   "nbconvert_exporter": "python",
   "pygments_lexer": "ipython3",
   "version": "3.11.1"
  }
 },
 "nbformat": 4,
 "nbformat_minor": 5
}
