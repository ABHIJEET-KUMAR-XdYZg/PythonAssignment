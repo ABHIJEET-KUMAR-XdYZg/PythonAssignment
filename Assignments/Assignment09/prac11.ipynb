{
 "cells": [
  {
   "cell_type": "markdown",
   "id": "a0046f9b",
   "metadata": {},
   "source": [
    "# Write a Python program to check whether the triangle is equilateral, isosceles or scalene triangle. "
   ]
  },
  {
   "cell_type": "code",
   "execution_count": 3,
   "id": "0eff2b67",
   "metadata": {},
   "outputs": [
    {
     "name": "stdout",
     "output_type": "stream",
     "text": [
      "Enter side length of side number 1 : 1\n",
      "Enter side length of side number 2 : 4\n",
      "Enter side length of side number 3 : 4\n",
      "Isoceles\n"
     ]
    }
   ],
   "source": [
    "l=[]\n",
    "for i in range(3):\n",
    "    l.append(int(input(f\"Enter side length of side number {i+1} : \")))\n",
    "if(l[0]==l[1]==l[2]):\n",
    "    print(\"Equilateral\")\n",
    "elif(l[0]!=l[1]!=l[2]):\n",
    "    print(\"Scalene\")\n",
    "else:\n",
    "    print(\"Isoceles\")"
   ]
  }
 ],
 "metadata": {
  "kernelspec": {
   "display_name": "Python 3 (ipykernel)",
   "language": "python",
   "name": "python3"
  },
  "language_info": {
   "codemirror_mode": {
    "name": "ipython",
    "version": 3
   },
   "file_extension": ".py",
   "mimetype": "text/x-python",
   "name": "python",
   "nbconvert_exporter": "python",
   "pygments_lexer": "ipython3",
   "version": "3.11.1"
  }
 },
 "nbformat": 4,
 "nbformat_minor": 5
}
