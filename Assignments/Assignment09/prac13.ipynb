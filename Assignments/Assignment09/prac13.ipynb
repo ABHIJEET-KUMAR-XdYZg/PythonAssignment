{
 "cells": [
  {
   "cell_type": "markdown",
   "id": "b65f899c",
   "metadata": {},
   "source": [
    "# Write a Python program to input basic salary of an employee and calculate its Gross salary according to following:  \n",
    "\n",
    "                Basic Salary <= 10000 : HRA = 20%, DA = 80%  \n",
    "\n",
    "                Basic Salary <= 20000 : HRA = 25%, DA = 90%  \n",
    "\n",
    "                Basic Salary > 20000 : HRA = 30%, DA = 95% \n",
    "                "
   ]
  }
 ],
 "metadata": {
  "kernelspec": {
   "display_name": "Python 3 (ipykernel)",
   "language": "python",
   "name": "python3"
  },
  "language_info": {
   "codemirror_mode": {
    "name": "ipython",
    "version": 3
   },
   "file_extension": ".py",
   "mimetype": "text/x-python",
   "name": "python",
   "nbconvert_exporter": "python",
   "pygments_lexer": "ipython3",
   "version": "3.11.1"
  }
 },
 "nbformat": 4,
 "nbformat_minor": 5
}
