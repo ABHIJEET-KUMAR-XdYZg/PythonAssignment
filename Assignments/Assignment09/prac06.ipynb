{
 "cells": [
  {
   "cell_type": "markdown",
   "id": "60fbec78",
   "metadata": {},
   "source": [
    "# Write a Python program to input any character and check whether it is alphabet, digit or special character. "
   ]
  },
  {
   "cell_type": "code",
   "execution_count": null,
   "id": "9588ff56",
   "metadata": {},
   "outputs": [],
   "source": [
    "c=input(\"Enter the character : \")\n",
    "if(c.isalpha()):\n",
    "    print(\"Alphabet\")\n",
    "elif(c.isdigit()):\n",
    "    print(\"Digit\")\n",
    "else:\n",
    "    print(\"Special Char\")"
   ]
  }
 ],
 "metadata": {
  "kernelspec": {
   "display_name": "Python 3 (ipykernel)",
   "language": "python",
   "name": "python3"
  },
  "language_info": {
   "codemirror_mode": {
    "name": "ipython",
    "version": 3
   },
   "file_extension": ".py",
   "mimetype": "text/x-python",
   "name": "python",
   "nbconvert_exporter": "python",
   "pygments_lexer": "ipython3",
   "version": "3.11.1"
  }
 },
 "nbformat": 4,
 "nbformat_minor": 5
}
