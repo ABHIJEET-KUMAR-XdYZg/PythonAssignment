{
 "cells": [
  {
   "cell_type": "markdown",
   "id": "0b3fa1b1",
   "metadata": {},
   "source": [
    "# Write a Python program to input angles of a triangle and check whether triangle is valid or not. "
   ]
  },
  {
   "cell_type": "code",
   "execution_count": null,
   "id": "db70f7ff",
   "metadata": {},
   "outputs": [],
   "source": [
    "for i in range(3):\n",
    "    l.append(int(input(f\"Enter angle number {i} : \")))\n",
    "if()"
   ]
  }
 ],
 "metadata": {
  "kernelspec": {
   "display_name": "Python 3 (ipykernel)",
   "language": "python",
   "name": "python3"
  },
  "language_info": {
   "codemirror_mode": {
    "name": "ipython",
    "version": 3
   },
   "file_extension": ".py",
   "mimetype": "text/x-python",
   "name": "python",
   "nbconvert_exporter": "python",
   "pygments_lexer": "ipython3",
   "version": "3.11.1"
  }
 },
 "nbformat": 4,
 "nbformat_minor": 5
}
