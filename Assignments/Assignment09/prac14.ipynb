{
 "cells": [
  {
   "cell_type": "markdown",
   "id": "b86bd09e",
   "metadata": {},
   "source": [
    "# Write a Python Program to input electricity unit charges and calculate total electricity bill according to the given condition:  \n",
    "\n",
    "    For first 50 units Rs. 0.50/unit \n",
    "    For next 100 units Rs. 0.75/unit \n",
    "    For next 100 units Rs. 1.20/unit \n",
    "    For unit above 250 Rs. 1.50/unit \n",
    "    An additional surcharge of 20% is added to the bill "
   ]
  },
  {
   "cell_type": "code",
   "execution_count": 3,
   "id": "eea5d197",
   "metadata": {},
   "outputs": [
    {
     "name": "stdout",
     "output_type": "stream",
     "text": [
      "Enter bill units : 250\n",
      "Total bill : 264.0\n"
     ]
    }
   ],
   "source": [
    "def fun1(u):\n",
    "    return u*0.50\n",
    "def fun2(u):\n",
    "    return (u-50)*0.75\n",
    "def fun3(u):\n",
    "    return (u-150)*1.20\n",
    "def fun4(u):\n",
    "    return (u-250)*1.50 \n",
    "u=int(input(\"Enter bill units : \"))\n",
    "if(u<=50):\n",
    "    b=fun1(u)\n",
    "elif(u<=150):\n",
    "    b=fun1(50)+fun2(u)\n",
    "elif(u<=250):\n",
    "    b=fun1(50)+fun2(150)+fun3(u)\n",
    "elif(u>250):\n",
    "    b=fun1(50)+fun2(150)+fun3(250)+fun4(u)\n",
    "b+=b/5\n",
    "print(\"Total bill :\",b)"
   ]
  },
  {
   "cell_type": "code",
   "execution_count": null,
   "id": "5c608953",
   "metadata": {},
   "outputs": [],
   "source": []
  }
 ],
 "metadata": {
  "kernelspec": {
   "display_name": "Python 3 (ipykernel)",
   "language": "python",
   "name": "python3"
  },
  "language_info": {
   "codemirror_mode": {
    "name": "ipython",
    "version": 3
   },
   "file_extension": ".py",
   "mimetype": "text/x-python",
   "name": "python",
   "nbconvert_exporter": "python",
   "pygments_lexer": "ipython3",
   "version": "3.11.1"
  }
 },
 "nbformat": 4,
 "nbformat_minor": 5
}
