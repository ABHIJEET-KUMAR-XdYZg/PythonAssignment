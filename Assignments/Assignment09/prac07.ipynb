{
 "cells": [
  {
   "cell_type": "markdown",
   "id": "eb3e6df1",
   "metadata": {},
   "source": [
    "# Write a Python program to check whether a character is uppercase or lowercase alphabet. "
   ]
  },
  {
   "cell_type": "code",
   "execution_count": 6,
   "id": "5188ae16",
   "metadata": {},
   "outputs": [
    {
     "name": "stdout",
     "output_type": "stream",
     "text": [
      "Enter the character : A\n",
      "Uppercase\n"
     ]
    }
   ],
   "source": [
    "c=input(\"Enter the character : \")\n",
    "if(c>='A' and c<='Z'):\n",
    "    print(\"Uppercase\")\n",
    "elif(c>='a' and c<='z'):\n",
    "    print(\"Lowercase\")\n",
    "else:\n",
    "    print(\"Not an alphabet\")"
   ]
  }
 ],
 "metadata": {
  "kernelspec": {
   "display_name": "Python 3 (ipykernel)",
   "language": "python",
   "name": "python3"
  },
  "language_info": {
   "codemirror_mode": {
    "name": "ipython",
    "version": 3
   },
   "file_extension": ".py",
   "mimetype": "text/x-python",
   "name": "python",
   "nbconvert_exporter": "python",
   "pygments_lexer": "ipython3",
   "version": "3.11.1"
  }
 },
 "nbformat": 4,
 "nbformat_minor": 5
}
