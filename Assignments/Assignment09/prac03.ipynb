{
 "cells": [
  {
   "cell_type": "markdown",
   "id": "0b3bcb83",
   "metadata": {},
   "source": [
    "# Write a Python program to check whether a year is leap year or not. "
   ]
  },
  {
   "cell_type": "code",
   "execution_count": null,
   "id": "c66c9347",
   "metadata": {},
   "outputs": [],
   "source": [
    "n=int(input(\"Enter the year : \"))\n",
    "if(n%4):\n",
    "    print(\"Not leap year\")\n",
    "else:\n",
    "    if(n%100):\n",
    "        print(\"Leap year\")\n",
    "    else:\n",
    "        if(n%400):\n",
    "            print(\"Not leap year\")\n",
    "        else:\n",
    "            print(\"Leap year\")"
   ]
  },
  {
   "cell_type": "code",
   "execution_count": null,
   "id": "2a38a671",
   "metadata": {},
   "outputs": [],
   "source": []
  }
 ],
 "metadata": {
  "kernelspec": {
   "display_name": "Python 3 (ipykernel)",
   "language": "python",
   "name": "python3"
  },
  "language_info": {
   "codemirror_mode": {
    "name": "ipython",
    "version": 3
   },
   "file_extension": ".py",
   "mimetype": "text/x-python",
   "name": "python",
   "nbconvert_exporter": "python",
   "pygments_lexer": "ipython3",
   "version": "3.11.1"
  }
 },
 "nbformat": 4,
 "nbformat_minor": 5
}
