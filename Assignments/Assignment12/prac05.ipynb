{
 "cells": [
  {
   "cell_type": "markdown",
   "id": "eaa9f191",
   "metadata": {},
   "source": [
    "# Write a program to sort a list without using inbuilt functions (list.sort not allowed) "
   ]
  },
  {
   "cell_type": "markdown",
   "id": "4eac9b6e",
   "metadata": {},
   "source": [
    "### Using Bubble Sort Algorithm "
   ]
  },
  {
   "cell_type": "code",
   "execution_count": 6,
   "id": "9a9a4d41",
   "metadata": {},
   "outputs": [
    {
     "name": "stdout",
     "output_type": "stream",
     "text": [
      "Enter list elements seperated with whitespace : 4 -9 12 0 5\n",
      "[-9, 0, 4, 5, 12]\n"
     ]
    }
   ],
   "source": [
    "def operation(l):\n",
    "    length=len(l)\n",
    "    for i in range(length-1):\n",
    "        for j in range(length-i-1):\n",
    "            if(l[j]>l[j+1]):\n",
    "                l[j],l[j+1]=l[j+1],l[j]\n",
    "l=[int(v) for v in input(\"Enter list elements seperated with whitespace : \").split()]\n",
    "operation(l)\n",
    "print(l)"
   ]
  },
  {
   "cell_type": "markdown",
   "id": "167d968b",
   "metadata": {},
   "source": [
    "### Using Insertion Sort Algorithm  "
   ]
  },
  {
   "cell_type": "code",
   "execution_count": 5,
   "id": "f7ed39a0",
   "metadata": {},
   "outputs": [
    {
     "name": "stdout",
     "output_type": "stream",
     "text": [
      "Enter list elements seperated with whitespace : 5 0 -9 12 4\n",
      "[-9, 0, 4, 5, 12]\n"
     ]
    }
   ],
   "source": [
    "def operation(l):\n",
    "    length=len(l)\n",
    "    for i in range(length-1):\n",
    "        for j in range(i,-1,-1):\n",
    "            if(j==i and l[j]>l[j+1]):\n",
    "                l[j],l[j+1]=l[j+1],l[j]\n",
    "            else:\n",
    "                if(l[j+1]<l[j]):\n",
    "                    l[j],l[j+1]=l[j+1],l[j]\n",
    "                else:\n",
    "                    break\n",
    "l=[int(v) for v in input(\"Enter list elements seperated with whitespace : \").split()]\n",
    "operation(l)\n",
    "print(l)"
   ]
  },
  {
   "cell_type": "markdown",
   "id": "3b13d91a",
   "metadata": {},
   "source": [
    "### Using Selection Sort Algorithm "
   ]
  },
  {
   "cell_type": "code",
   "execution_count": 7,
   "id": "1cf67e1f",
   "metadata": {},
   "outputs": [
    {
     "name": "stdout",
     "output_type": "stream",
     "text": [
      "Enter list elements seperated with whitespace : 4 -9 0 12 2\n",
      "[-9, 0, 2, 4, 12]\n"
     ]
    }
   ],
   "source": [
    "def operation(l):\n",
    "    length=len(l)\n",
    "    for i in range(length-1):\n",
    "        min=l[i]\n",
    "        index=i\n",
    "        for j in range(i+1,length):\n",
    "            if(l[j]<min):\n",
    "                min=l[j]\n",
    "                index=j\n",
    "        l[i],l[index]=l[index],l[i]\n",
    "l=[int(v) for v in input(\"Enter list elements seperated with whitespace : \").split()]\n",
    "operation(l)\n",
    "print(l)"
   ]
  }
 ],
 "metadata": {
  "kernelspec": {
   "display_name": "Python 3 (ipykernel)",
   "language": "python",
   "name": "python3"
  },
  "language_info": {
   "codemirror_mode": {
    "name": "ipython",
    "version": 3
   },
   "file_extension": ".py",
   "mimetype": "text/x-python",
   "name": "python",
   "nbconvert_exporter": "python",
   "pygments_lexer": "ipython3",
   "version": "3.11.1"
  }
 },
 "nbformat": 4,
 "nbformat_minor": 5
}
