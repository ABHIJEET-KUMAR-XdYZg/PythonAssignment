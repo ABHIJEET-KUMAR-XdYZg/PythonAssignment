{
 "cells": [
  {
   "cell_type": "markdown",
   "id": "aac64faa",
   "metadata": {},
   "source": [
    "# Solve this problem https://www.hackerrank.com/challenges/finding-the-percentage/problem  "
   ]
  },
  {
   "cell_type": "code",
   "execution_count": null,
   "id": "85d72a0c",
   "metadata": {},
   "outputs": [],
   "source": [
    "def operation():\n",
    "    n=int(input())\n",
    "    dic={}\n",
    "    for _ in range(n):\n",
    "        s=input().split(\" \",1)\n",
    "        dic[s[0]]=[float(e) for e in s[1].split()]\n",
    "    s=input()\n",
    "    print(\"%.2f\" % (sum(dic[s])/3))\n",
    "operation()"
   ]
  }
 ],
 "metadata": {
  "kernelspec": {
   "display_name": "Python 3 (ipykernel)",
   "language": "python",
   "name": "python3"
  },
  "language_info": {
   "codemirror_mode": {
    "name": "ipython",
    "version": 3
   },
   "file_extension": ".py",
   "mimetype": "text/x-python",
   "name": "python",
   "nbconvert_exporter": "python",
   "pygments_lexer": "ipython3",
   "version": "3.11.1"
  }
 },
 "nbformat": 4,
 "nbformat_minor": 5
}
