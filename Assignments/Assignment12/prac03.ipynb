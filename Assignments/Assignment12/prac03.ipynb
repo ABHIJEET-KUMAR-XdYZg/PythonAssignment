{
 "cells": [
  {
   "cell_type": "markdown",
   "id": "453cf26a",
   "metadata": {},
   "source": [
    "# Solve this problem https://www.hackerrank.com/challenges/python-lists/problem  "
   ]
  },
  {
   "cell_type": "code",
   "execution_count": null,
   "id": "f52c5bda",
   "metadata": {},
   "outputs": [],
   "source": [
    "def operation():\n",
    "    n=int(input())\n",
    "    l=[]\n",
    "    for i in range(n):\n",
    "        s=input().split()\n",
    "        if(s[0]=='insert'):\n",
    "            l.insert(int(s[1]),int(s[2]))\n",
    "        elif(s[0]=='print'):\n",
    "            print(l)\n",
    "        elif(s[0]=='remove'):\n",
    "            l.remove(int(s[1]))\n",
    "        elif(s[0]=='append'):\n",
    "            l.append(int(s[1]))\n",
    "        elif(s[0]=='sort'):\n",
    "            l.sort()\n",
    "        elif(s[0]=='pop'):\n",
    "            l.pop()\n",
    "        elif(s[0]=='reverse'):\n",
    "            l.reverse()\n",
    "operation()"
   ]
  }
 ],
 "metadata": {
  "kernelspec": {
   "display_name": "Python 3 (ipykernel)",
   "language": "python",
   "name": "python3"
  },
  "language_info": {
   "codemirror_mode": {
    "name": "ipython",
    "version": 3
   },
   "file_extension": ".py",
   "mimetype": "text/x-python",
   "name": "python",
   "nbconvert_exporter": "python",
   "pygments_lexer": "ipython3",
   "version": "3.11.1"
  }
 },
 "nbformat": 4,
 "nbformat_minor": 5
}
