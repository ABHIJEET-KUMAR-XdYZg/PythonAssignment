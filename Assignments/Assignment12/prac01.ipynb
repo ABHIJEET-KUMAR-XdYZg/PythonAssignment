{
 "cells": [
  {
   "cell_type": "markdown",
   "id": "1c1f831a",
   "metadata": {},
   "source": [
    "# \n",
    "Write a code to implement Guess Game Guess Game \n",
    "\n",
    "constraints / Rules \n",
    "\n",
    "you have 5 chance to guess correct number which is choosen by computer / friend \n",
    "\n",
    "Range which is allowed to select a number 1-50 \n",
    "\n",
    "After each guess you should give some tips / hints to user to improve their chance of winning \n",
    "\n",
    "for example if user guess a number which is higher than actual number you should say `hint: think a low number! \n",
    "\n",
    "if user guess a number which is lower than actual number you should say `hint: think a big number!` \n",
    "\n",
    "      if user wins we will show a congrats messege and stop our game \n",
    "\n",
    "      if any time user guess is out of limit than print a warning message saying Think in Limits 1-50 only! \n",
    "\n",
    "      but we do not count this as a chance "
   ]
  },
  {
   "cell_type": "code",
   "execution_count": 7,
   "id": "4ed5c53c",
   "metadata": {},
   "outputs": [
    {
     "name": "stdout",
     "output_type": "stream",
     "text": [
      "Guess the number : 24\n",
      "Think a low number!\n",
      "Guess the number : 17\n",
      "Think a low number!\n",
      "Guess the number : 13\n",
      "Think a low number!\n",
      "Guess the number : 7\n",
      "Think a big number!\n",
      "Guess the number : 10\n",
      "Congratulations!. You have guessed it correctly in 5 attempts\n"
     ]
    }
   ],
   "source": [
    "import random\n",
    "def game():\n",
    "    n=random.randint(1,50)\n",
    "    i=0\n",
    "    while(i<5):\n",
    "        u=int(input(\"Guess the number : \"))\n",
    "        if(u>50 or u<1):\n",
    "            print(\"Think in Limits 1-50 only!\")\n",
    "            i-=1\n",
    "        elif(u>n):\n",
    "            print(\"Think a low number!\")\n",
    "        elif(u<n):\n",
    "            print(\"Think a big number!\")\n",
    "        else:\n",
    "            print(f\"Congratulations!. You have guessed it correctly in attempt no {i+1}\")\n",
    "            return\n",
    "        i+=1\n",
    "    print(f\"5 attempts are completed(The number was {n}). Try Again\")\n",
    "game()"
   ]
  }
 ],
 "metadata": {
  "kernelspec": {
   "display_name": "Python 3 (ipykernel)",
   "language": "python",
   "name": "python3"
  },
  "language_info": {
   "codemirror_mode": {
    "name": "ipython",
    "version": 3
   },
   "file_extension": ".py",
   "mimetype": "text/x-python",
   "name": "python",
   "nbconvert_exporter": "python",
   "pygments_lexer": "ipython3",
   "version": "3.11.1"
  }
 },
 "nbformat": 4,
 "nbformat_minor": 5
}
