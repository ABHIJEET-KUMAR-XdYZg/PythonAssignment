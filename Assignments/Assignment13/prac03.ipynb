{
 "cells": [
  {
   "cell_type": "markdown",
   "id": "150af721",
   "metadata": {},
   "source": [
    "# Write a Python Program to remove punctuation from a given string (using loop) "
   ]
  },
  {
   "cell_type": "code",
   "execution_count": 10,
   "id": "dab93a6e",
   "metadata": {},
   "outputs": [
    {
     "name": "stdout",
     "output_type": "stream",
     "text": [
      "Enter the string : abc!...def!=-ghi?>thy-\n",
      "abcdef=ghi>thy\n"
     ]
    }
   ],
   "source": [
    "def operation(s):\n",
    "    l=[',',\"'\",'-','...','.','!','?']\n",
    "    for c in l:\n",
    "        s=s.replace(c,'')\n",
    "    return s\n",
    "s=operation(input(\"Enter the string : \"))\n",
    "print(s)"
   ]
  }
 ],
 "metadata": {
  "kernelspec": {
   "display_name": "Python 3 (ipykernel)",
   "language": "python",
   "name": "python3"
  },
  "language_info": {
   "codemirror_mode": {
    "name": "ipython",
    "version": 3
   },
   "file_extension": ".py",
   "mimetype": "text/x-python",
   "name": "python",
   "nbconvert_exporter": "python",
   "pygments_lexer": "ipython3",
   "version": "3.11.1"
  }
 },
 "nbformat": 4,
 "nbformat_minor": 5
}
