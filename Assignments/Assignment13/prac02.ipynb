{
 "cells": [
  {
   "cell_type": "markdown",
   "id": "d14210b1",
   "metadata": {},
   "source": [
    "# Write a Python Code to count number of words, characters and number of spaces in a given string "
   ]
  },
  {
   "cell_type": "code",
   "execution_count": 2,
   "id": "eebf2273",
   "metadata": {},
   "outputs": [
    {
     "name": "stdout",
     "output_type": "stream",
     "text": [
      "Enter the string : abc def  ghi   jkl edf\n",
      "No of Words : 5\n",
      "No of Characters : 22\n",
      "No of Spaces : 7\n"
     ]
    }
   ],
   "source": [
    "def operation(s):\n",
    "    print(f\"No of Words : {len(s.split())}\")\n",
    "    print(f\"No of Characters : {len(s)}\")\n",
    "    print(f\"No of Spaces : {s.count(' ')}\")\n",
    "operation(input(\"Enter the string : \"))"
   ]
  }
 ],
 "metadata": {
  "kernelspec": {
   "display_name": "Python 3 (ipykernel)",
   "language": "python",
   "name": "python3"
  },
  "language_info": {
   "codemirror_mode": {
    "name": "ipython",
    "version": 3
   },
   "file_extension": ".py",
   "mimetype": "text/x-python",
   "name": "python",
   "nbconvert_exporter": "python",
   "pygments_lexer": "ipython3",
   "version": "3.11.1"
  }
 },
 "nbformat": 4,
 "nbformat_minor": 5
}
