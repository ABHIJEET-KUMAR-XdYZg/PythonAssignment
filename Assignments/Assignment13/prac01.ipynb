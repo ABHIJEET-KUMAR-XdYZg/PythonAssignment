{
 "cells": [
  {
   "cell_type": "markdown",
   "id": "fd511516",
   "metadata": {},
   "source": [
    "# Write a Python Code to count the Number of Each Vowel in a given string "
   ]
  },
  {
   "cell_type": "code",
   "execution_count": 2,
   "id": "35612cdc",
   "metadata": {},
   "outputs": [
    {
     "name": "stdout",
     "output_type": "stream",
     "text": [
      "Enter the string : abceuoaeoooiai'\n",
      "No of occurences of a : 3\n",
      "No of occurences of e : 2\n",
      "No of occurences of i : 2\n",
      "No of occurences of o : 4\n",
      "No of occurences of u : 1\n"
     ]
    }
   ],
   "source": [
    "def operation(s):\n",
    "    l=['a','e','i','o','u']\n",
    "    for i in range(5):\n",
    "        print(f\"No of occurences of {l[i]} : {s.count(l[i])}\")\n",
    "operation(input(\"Enter the string : \"))"
   ]
  }
 ],
 "metadata": {
  "kernelspec": {
   "display_name": "Python 3 (ipykernel)",
   "language": "python",
   "name": "python3"
  },
  "language_info": {
   "codemirror_mode": {
    "name": "ipython",
    "version": 3
   },
   "file_extension": ".py",
   "mimetype": "text/x-python",
   "name": "python",
   "nbconvert_exporter": "python",
   "pygments_lexer": "ipython3",
   "version": "3.11.1"
  }
 },
 "nbformat": 4,
 "nbformat_minor": 5
}
