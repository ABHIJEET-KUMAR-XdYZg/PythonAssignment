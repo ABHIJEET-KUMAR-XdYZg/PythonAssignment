{
 "cells": [
  {
   "cell_type": "markdown",
   "id": "94bb59f9",
   "metadata": {},
   "source": [
    "# Write a Python Program to take a mxn matrix input from user and stored in nested list "
   ]
  },
  {
   "cell_type": "code",
   "execution_count": 9,
   "id": "5de21410",
   "metadata": {},
   "outputs": [
    {
     "name": "stdout",
     "output_type": "stream",
     "text": [
      "Enter number of rows : 2\n",
      "Enter number of cols : 2\n",
      "Enter element of row 1 and col 1 : 1\n",
      "Enter element of row 1 and col 2 : 2\n",
      "Enter element of row 2 and col 1 : 3\n",
      "Enter element of row 2 and col 2 : 4\n",
      "[[1, 2, 3, 4], [1, 2, 3, 4]]\n"
     ]
    }
   ],
   "source": [
    "import pprint\n",
    "def operation(l):\n",
    "    m=int(input(\"Enter number of rows : \"))\n",
    "    n=int(input(\"Enter number of cols : \"))\n",
    "    l1=[]\n",
    "    for i in range(m):\n",
    "        for j in range(n):\n",
    "            l1.append(int(input(f\"Enter element of row {i+1} and col {j+1} : \")))\n",
    "        l.append(l1)\n",
    "l=[]\n",
    "operation(l)\n",
    "print(l)"
   ]
  }
 ],
 "metadata": {
  "kernelspec": {
   "display_name": "Python 3 (ipykernel)",
   "language": "python",
   "name": "python3"
  },
  "language_info": {
   "codemirror_mode": {
    "name": "ipython",
    "version": 3
   },
   "file_extension": ".py",
   "mimetype": "text/x-python",
   "name": "python",
   "nbconvert_exporter": "python",
   "pygments_lexer": "ipython3",
   "version": "3.11.1"
  }
 },
 "nbformat": 4,
 "nbformat_minor": 5
}
