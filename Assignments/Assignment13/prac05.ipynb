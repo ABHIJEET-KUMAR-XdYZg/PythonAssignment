{
 "cells": [
  {
   "cell_type": "markdown",
   "id": "56e87c3f",
   "metadata": {},
   "source": [
    "# Write a Python Program to add, multiply and transpose two matrices given by user  "
   ]
  },
  {
   "cell_type": "code",
   "execution_count": 14,
   "id": "5bb3deda",
   "metadata": {},
   "outputs": [
    {
     "name": "stdout",
     "output_type": "stream",
     "text": [
      "Enter data for list 1\n",
      "Enter number of rows : 2\n",
      "Enter number of cols : 2\n",
      "Enter element of row 1 and col 1 : 1\n",
      "Enter element of row 1 and col 2 : 2\n",
      "Enter element of row 2 and col 1 : 3\n",
      "Enter element of row 2 and col 2 : 4\n",
      "Enter data for list 2\n",
      "Enter number of rows : 2\n",
      "Enter number of cols : 2\n",
      "Enter element of row 1 and col 1 : 5\n",
      "Enter element of row 1 and col 2 : 6\n",
      "Enter element of row 2 and col 1 : 7\n",
      "Enter element of row 2 and col 2 : 8\n",
      "After Addition : \n",
      "[[6, 8], [10, 12]]\n",
      "After Multiplication : \n",
      "[[19, 22], [43, 50]]\n",
      "Transpose of matrix 1 : \n",
      "[[1, 3], [2, 4]]\n",
      "Transpose of matrix 2 : \n",
      "[[5, 7], [6, 8]]\n"
     ]
    }
   ],
   "source": [
    "def add(l1,l2,l):\n",
    "    if(len(l1)!=len(l2)):\n",
    "        print(\"Can't add\")\n",
    "        return\n",
    "    for i in range(len(l1)):\n",
    "        t=[]\n",
    "        for j in range(len(l1[0])):\n",
    "            t.append(l1[i][j]+l2[i][j])\n",
    "        l.append(t)\n",
    "\n",
    "def mul(l1,l2,l):\n",
    "    if(len(l1[0])!=len(l2)):\n",
    "        print(\"Can't multiply\")\n",
    "        return\n",
    "    for i in range(len(l1)):\n",
    "        t=[]\n",
    "        for j in range(len(l2[0])):\n",
    "            s=0\n",
    "            for k in range(len(l2)):\n",
    "                s+=l1[i][k]*l2[k][j]\n",
    "            t.append(s)\n",
    "        l.append(t)\n",
    "\n",
    "def transpose(l,l1):\n",
    "    for i in range(len(l[0])):\n",
    "        t=[]\n",
    "        for j in range(len(l)):\n",
    "            t.append(l[j][i])\n",
    "        l1.append(t)\n",
    "\n",
    "        \n",
    "def get(l):\n",
    "    m=int(input(\"Enter number of rows : \"))\n",
    "    n=int(input(\"Enter number of cols : \"))\n",
    "    for i in range(m):\n",
    "        l1=[]\n",
    "        for j in range(n):\n",
    "            l1.append(int(input(f\"Enter element of row {i+1} and col {j+1} : \")))\n",
    "        l.append(l1)\n",
    "        \n",
    "l1=[]\n",
    "print(\"Enter data for list 1\")\n",
    "get(l1)\n",
    "l2=[]\n",
    "print(\"Enter data for list 2\")\n",
    "get(l2)\n",
    "\n",
    "a=[]\n",
    "add(l1,l2,a)\n",
    "print(f\"After Addition : \\n{a}\")\n",
    "\n",
    "m=[]\n",
    "mul(l1,l2,m)\n",
    "print(f\"After Multiplication : \\n{m}\")\n",
    "\n",
    "t1=[]\n",
    "transpose(l1,t1)\n",
    "print(f\"Transpose of matrix 1 : \\n{t1}\")\n",
    "\n",
    "t2=[]\n",
    "transpose(l2,t2)\n",
    "print(f\"Transpose of matrix 2 : \\n{t2}\")\n"
   ]
  }
 ],
 "metadata": {
  "kernelspec": {
   "display_name": "Python 3 (ipykernel)",
   "language": "python",
   "name": "python3"
  },
  "language_info": {
   "codemirror_mode": {
    "name": "ipython",
    "version": 3
   },
   "file_extension": ".py",
   "mimetype": "text/x-python",
   "name": "python",
   "nbconvert_exporter": "python",
   "pygments_lexer": "ipython3",
   "version": "3.11.1"
  }
 },
 "nbformat": 4,
 "nbformat_minor": 5
}
