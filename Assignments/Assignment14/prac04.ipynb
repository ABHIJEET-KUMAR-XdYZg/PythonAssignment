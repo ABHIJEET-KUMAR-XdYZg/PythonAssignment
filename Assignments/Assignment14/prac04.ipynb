{
 "cells": [
  {
   "cell_type": "markdown",
   "id": "8c4f92a3",
   "metadata": {},
   "source": [
    "# Write a program to read roll number and marks of 10 students in 3 subjects. The valid range for roll number is 1000-9999, if the roll number entered is not in this range, the user should be asked to enter again. Calculate total marks of only those students who get more than or equal to 40 marks in each subject. Count the number of students whose total is more than 200. Print the roll number of the students who gets the highest total. "
   ]
  },
  {
   "cell_type": "code",
   "execution_count": 3,
   "id": "6f7018f9",
   "metadata": {},
   "outputs": [
    {
     "name": "stdout",
     "output_type": "stream",
     "text": [
      "Enter roll of student 1 : 1001\n",
      "Enter marks seperated by space : 100 100 100\n",
      "Number of students who got total above 200 : 1\n",
      "Highest marks scored is 300 by roll 1001\n"
     ]
    }
   ],
   "source": [
    "def operation():\n",
    "    d={}\n",
    "    for i in range(1):\n",
    "        roll=int(input(f\"Enter roll of student {i+1} : \"))\n",
    "        if(roll>9999 or roll<1000):\n",
    "            print(\"Incorrect roll.Enter again!\")\n",
    "            i-=1\n",
    "        else:\n",
    "            l=[int(m) for m in input(\"Enter marks seperated by space : \").split()]\n",
    "            if(l[0]>=40 and l[1]>=40 and l[2]>=40):\n",
    "                d[roll]=sum(l)\n",
    "    count=0\n",
    "    max=0\n",
    "    roll=0\n",
    "    for k,v in d.items():\n",
    "        if v>200:\n",
    "            count+=1\n",
    "        if max<v:\n",
    "            max=v\n",
    "            roll=k\n",
    "    print(f\"Number of students who got total above 200 : {count}\")\n",
    "    print(f\"Highest marks scored is {max} by roll {roll}\")\n",
    "    \n",
    "operation()"
   ]
  }
 ],
 "metadata": {
  "kernelspec": {
   "display_name": "Python 3 (ipykernel)",
   "language": "python",
   "name": "python3"
  },
  "language_info": {
   "codemirror_mode": {
    "name": "ipython",
    "version": 3
   },
   "file_extension": ".py",
   "mimetype": "text/x-python",
   "name": "python",
   "nbconvert_exporter": "python",
   "pygments_lexer": "ipython3",
   "version": "3.11.1"
  }
 },
 "nbformat": 4,
 "nbformat_minor": 5
}
