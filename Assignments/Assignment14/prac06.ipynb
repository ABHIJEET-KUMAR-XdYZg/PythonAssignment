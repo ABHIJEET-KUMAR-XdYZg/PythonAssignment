{
 "cells": [
  {
   "cell_type": "markdown",
   "id": "c8c81abf",
   "metadata": {},
   "source": [
    "# Write a program to enter a number and find the reverse of that number. Also display the double of the reverse number. (don’t use string magic) \n",
    "\n",
    " "
   ]
  },
  {
   "cell_type": "code",
   "execution_count": null,
   "id": "50aa9654",
   "metadata": {},
   "outputs": [],
   "source": [
    "def operation(n):\n",
    "    r=0\n",
    "    while(n!=0):\n",
    "        r=r*10+n%10\n",
    "        n//=10\n",
    "    print(f\"Reversed Number : {r}\")\n",
    "    print(f\"Double of reversed number : {2*r)}\")"
   ]
  }
 ],
 "metadata": {
  "kernelspec": {
   "display_name": "Python 3 (ipykernel)",
   "language": "python",
   "name": "python3"
  },
  "language_info": {
   "codemirror_mode": {
    "name": "ipython",
    "version": 3
   },
   "file_extension": ".py",
   "mimetype": "text/x-python",
   "name": "python",
   "nbconvert_exporter": "python",
   "pygments_lexer": "ipython3",
   "version": "3.11.1"
  }
 },
 "nbformat": 4,
 "nbformat_minor": 5
}
