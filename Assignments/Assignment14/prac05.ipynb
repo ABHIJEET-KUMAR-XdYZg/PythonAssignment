{
 "cells": [
  {
   "cell_type": "markdown",
   "id": "0bfb7260",
   "metadata": {},
   "source": [
    "# Write a program to input a number and count the digits in it. Use while loop and the program should work correctly for 0 also "
   ]
  },
  {
   "cell_type": "code",
   "execution_count": 7,
   "id": "bdba5651",
   "metadata": {},
   "outputs": [
    {
     "name": "stdout",
     "output_type": "stream",
     "text": [
      "Enter the number : 12345\n",
      "Total number of digits : 5\n"
     ]
    }
   ],
   "source": [
    "def operation(n):\n",
    "    count=0\n",
    "    if n==0:\n",
    "        return 1\n",
    "    while n!=0:\n",
    "        count+=1\n",
    "        n//=10\n",
    "    return count\n",
    "print(f\"Total number of digits : {operation(int(input('Enter the number : ')))}\")"
   ]
  }
 ],
 "metadata": {
  "kernelspec": {
   "display_name": "Python 3 (ipykernel)",
   "language": "python",
   "name": "python3"
  },
  "language_info": {
   "codemirror_mode": {
    "name": "ipython",
    "version": 3
   },
   "file_extension": ".py",
   "mimetype": "text/x-python",
   "name": "python",
   "nbconvert_exporter": "python",
   "pygments_lexer": "ipython3",
   "version": "3.11.1"
  }
 },
 "nbformat": 4,
 "nbformat_minor": 5
}
