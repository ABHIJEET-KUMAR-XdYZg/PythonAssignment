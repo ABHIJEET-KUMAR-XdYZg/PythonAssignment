{
 "cells": [
  {
   "cell_type": "markdown",
   "id": "fd5023d8",
   "metadata": {},
   "source": [
    "# Write a program to accept any number n and print the cube of all numbers from 1 to n which are divisible by 3. Rewrite the program using a continue statement. "
   ]
  },
  {
   "cell_type": "code",
   "execution_count": 6,
   "id": "1fa4d3e1",
   "metadata": {},
   "outputs": [
    {
     "name": "stdout",
     "output_type": "stream",
     "text": [
      "Enter n : 10\n",
      "27\n",
      "216\n",
      "729\n"
     ]
    }
   ],
   "source": [
    "def operation(n):\n",
    "    for i in range(1,n+1):\n",
    "        if(i%3):\n",
    "            continue\n",
    "        print(i**3)\n",
    "operation(int(input(\"Enter n : \")))"
   ]
  }
 ],
 "metadata": {
  "kernelspec": {
   "display_name": "Python 3 (ipykernel)",
   "language": "python",
   "name": "python3"
  },
  "language_info": {
   "codemirror_mode": {
    "name": "ipython",
    "version": 3
   },
   "file_extension": ".py",
   "mimetype": "text/x-python",
   "name": "python",
   "nbconvert_exporter": "python",
   "pygments_lexer": "ipython3",
   "version": "3.11.1"
  }
 },
 "nbformat": 4,
 "nbformat_minor": 5
}
