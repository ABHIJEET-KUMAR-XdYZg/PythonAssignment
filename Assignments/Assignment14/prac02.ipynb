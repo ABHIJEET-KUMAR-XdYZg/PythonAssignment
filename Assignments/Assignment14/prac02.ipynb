{
 "cells": [
  {
   "cell_type": "markdown",
   "id": "7fb8e3b5",
   "metadata": {},
   "source": [
    "# Program to find LCM and HCF of two numbers "
   ]
  },
  {
   "cell_type": "code",
   "execution_count": 1,
   "id": "addef12e",
   "metadata": {},
   "outputs": [
    {
     "name": "stdout",
     "output_type": "stream",
     "text": [
      "Enter 1st number : 60\n",
      "Enter 2nd number : 75\n",
      "LCM : 300\n",
      "HCF : 15\n"
     ]
    }
   ],
   "source": [
    "def lcm(n1,n2):\n",
    "    return n1*n2//hcf(n1,n2)\n",
    "def hcf(n1,n2):\n",
    "    min=n1 if n1<n2 else n2\n",
    "    for i in range(min,0,-1):\n",
    "        if(n1%i==0 and n2%i==0):\n",
    "            return i\n",
    "            \n",
    "n1=int(input(\"Enter 1st number : \"))\n",
    "n2=int(input(\"Enter 2nd number : \"))\n",
    "print(f\"LCM : {lcm(n1,n2)}\")\n",
    "print(f\"HCF : {hcf(n1,n2)}\")"
   ]
  }
 ],
 "metadata": {
  "kernelspec": {
   "display_name": "Python 3 (ipykernel)",
   "language": "python",
   "name": "python3"
  },
  "language_info": {
   "codemirror_mode": {
    "name": "ipython",
    "version": 3
   },
   "file_extension": ".py",
   "mimetype": "text/x-python",
   "name": "python",
   "nbconvert_exporter": "python",
   "pygments_lexer": "ipython3",
   "version": "3.11.1"
  }
 },
 "nbformat": 4,
 "nbformat_minor": 5
}
