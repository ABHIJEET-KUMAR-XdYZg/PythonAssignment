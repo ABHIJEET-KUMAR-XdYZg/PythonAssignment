{
 "cells": [
  {
   "cell_type": "markdown",
   "id": "26f4807a",
   "metadata": {},
   "source": [
    "# Program to find the sum of digits of a number until the sum is reduced to 1 digit "
   ]
  },
  {
   "cell_type": "code",
   "execution_count": 13,
   "id": "96d58347",
   "metadata": {},
   "outputs": [
    {
     "name": "stdout",
     "output_type": "stream",
     "text": [
      "Enter the number : 12345\n",
      "The sum is 6\n"
     ]
    }
   ],
   "source": [
    "def operation(n):\n",
    "    s=0\n",
    "    while(n!=0):\n",
    "        s+=n%10\n",
    "        n//=10\n",
    "    if(s>=10):\n",
    "        s=operation(s)\n",
    "    return s\n",
    "s=operation(int(input(\"Enter the number : \")))\n",
    "print(f\"The sum is {s}\")"
   ]
  }
 ],
 "metadata": {
  "kernelspec": {
   "display_name": "Python 3 (ipykernel)",
   "language": "python",
   "name": "python3"
  },
  "language_info": {
   "codemirror_mode": {
    "name": "ipython",
    "version": 3
   },
   "file_extension": ".py",
   "mimetype": "text/x-python",
   "name": "python",
   "nbconvert_exporter": "python",
   "pygments_lexer": "ipython3",
   "version": "3.11.1"
  }
 },
 "nbformat": 4,
 "nbformat_minor": 5
}
