{
 "cells": [
  {
   "cell_type": "markdown",
   "id": "31729bd7",
   "metadata": {},
   "source": [
    "# What do the following expressions evaluate to? \n",
    "\n",
    "    (5 > 4) and (3 == 5) \n",
    "\n",
    "    not (5 > 4) \n",
    "\n",
    "    (5 > 4) or (3 == 5) \n",
    "\n",
    "    not ((5 > 4) or (3 == 5)) \n",
    "\n",
    "    (True and True) and (True == False) \n",
    "\n",
    "    (not False) or (not True) "
   ]
  },
  {
   "cell_type": "code",
   "execution_count": null,
   "id": "92ce392b",
   "metadata": {},
   "outputs": [],
   "source": [
    "\"\"\"\n",
    "False\n",
    "False\n",
    "True\n",
    "False\n",
    "False\n",
    "True\n",
    "\"\"\""
   ]
  }
 ],
 "metadata": {
  "kernelspec": {
   "display_name": "Python 3 (ipykernel)",
   "language": "python",
   "name": "python3"
  },
  "language_info": {
   "codemirror_mode": {
    "name": "ipython",
    "version": 3
   },
   "file_extension": ".py",
   "mimetype": "text/x-python",
   "name": "python",
   "nbconvert_exporter": "python",
   "pygments_lexer": "ipython3",
   "version": "3.11.1"
  }
 },
 "nbformat": 4,
 "nbformat_minor": 5
}
