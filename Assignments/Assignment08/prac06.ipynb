{
 "cells": [
  {
   "cell_type": "markdown",
   "id": "00bd86a0",
   "metadata": {},
   "source": [
    "# What is the difference between the equal to operator and\t the assignment operator? "
   ]
  },
  {
   "cell_type": "markdown",
   "id": "49173b80",
   "metadata": {},
   "source": [
    "The equal to operator (==) is used for comparing values, while the assignment operator (=) is used for assigning values to variables."
   ]
  }
 ],
 "metadata": {
  "kernelspec": {
   "display_name": "Python 3 (ipykernel)",
   "language": "python",
   "name": "python3"
  },
  "language_info": {
   "codemirror_mode": {
    "name": "ipython",
    "version": 3
   },
   "file_extension": ".py",
   "mimetype": "text/x-python",
   "name": "python",
   "nbconvert_exporter": "python",
   "pygments_lexer": "ipython3",
   "version": "3.11.1"
  }
 },
 "nbformat": 4,
 "nbformat_minor": 5
}
