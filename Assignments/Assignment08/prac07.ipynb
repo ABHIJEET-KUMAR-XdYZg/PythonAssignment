{
 "cells": [
  {
   "cell_type": "markdown",
   "id": "c47b2052",
   "metadata": {},
   "source": [
    "# Explain what a condition is and where you would use one. "
   ]
  },
  {
   "cell_type": "markdown",
   "id": "4b8b31df",
   "metadata": {},
   "source": [
    "Conditional Statements (if-else, switch):\n",
    "Conditions are commonly used in conditional statements to determine which block of code should be executed based on the evaluation of the condition."
   ]
  },
  {
   "cell_type": "markdown",
   "id": "bae7ae1f",
   "metadata": {},
   "source": [
    "Looping Statements (while, for):\n",
    "Conditions play a crucial role in looping statements to control the repetition of code."
   ]
  },
  {
   "cell_type": "markdown",
   "id": "b9802d6b",
   "metadata": {},
   "source": [
    "Function and Method Calls:\n",
    "Conditions can be used to determine whether a function or method should be called or not."
   ]
  }
 ],
 "metadata": {
  "kernelspec": {
   "display_name": "Python 3 (ipykernel)",
   "language": "python",
   "name": "python3"
  },
  "language_info": {
   "codemirror_mode": {
    "name": "ipython",
    "version": 3
   },
   "file_extension": ".py",
   "mimetype": "text/x-python",
   "name": "python",
   "nbconvert_exporter": "python",
   "pygments_lexer": "ipython3",
   "version": "3.11.1"
  }
 },
 "nbformat": 4,
 "nbformat_minor": 5
}
