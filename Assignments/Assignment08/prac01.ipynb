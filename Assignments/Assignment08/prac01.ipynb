{
 "cells": [
  {
   "cell_type": "markdown",
   "id": "37af15f6",
   "metadata": {},
   "source": [
    "# What are the two values of the Boolean data type? How do you write them? "
   ]
  },
  {
   "cell_type": "code",
   "execution_count": null,
   "id": "87e7aa1a",
   "metadata": {},
   "outputs": [],
   "source": [
    "In different programming languages they are represented by (true,false),(0,1) or (True,False).\n",
    "In python it is (True,False)"
   ]
  }
 ],
 "metadata": {
  "kernelspec": {
   "display_name": "Python 3 (ipykernel)",
   "language": "python",
   "name": "python3"
  },
  "language_info": {
   "codemirror_mode": {
    "name": "ipython",
    "version": 3
   },
   "file_extension": ".py",
   "mimetype": "text/x-python",
   "name": "python",
   "nbconvert_exporter": "python",
   "pygments_lexer": "ipython3",
   "version": "3.11.1"
  }
 },
 "nbformat": 4,
 "nbformat_minor": 5
}
