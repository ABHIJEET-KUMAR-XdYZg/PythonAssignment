{
 "cells": [
  {
   "cell_type": "markdown",
   "id": "1882b082",
   "metadata": {},
   "source": [
    "# Write out the truth tables of each Boolean operator (that is, every possible combination of Boolean values for the operator and what they evaluate to). "
   ]
  },
  {
   "cell_type": "markdown",
   "id": "fa73704c",
   "metadata": {},
   "source": [
    "### and"
   ]
  },
  {
   "cell_type": "code",
   "execution_count": null,
   "id": "11cfa46d",
   "metadata": {},
   "outputs": [],
   "source": [
    "\"\"\"\n",
    "A B A∧B\n",
    "0 0  0\n",
    "0 1  0\n",
    "1 0  0\n",
    "1 1  1\n",
    "\"\"\""
   ]
  },
  {
   "cell_type": "markdown",
   "id": "a9eae5a8",
   "metadata": {},
   "source": [
    "### or"
   ]
  },
  {
   "cell_type": "code",
   "execution_count": null,
   "id": "9faaf08e",
   "metadata": {},
   "outputs": [],
   "source": [
    "\"\"\"\n",
    "A B A ∨ B\n",
    "0 0  0\n",
    "0 1  1\n",
    "1 0  1\n",
    "1 1  1\n",
    "\"\"\""
   ]
  },
  {
   "cell_type": "markdown",
   "id": "cd33c0f3",
   "metadata": {},
   "source": [
    "### not"
   ]
  },
  {
   "cell_type": "code",
   "execution_count": null,
   "id": "39789d9e",
   "metadata": {},
   "outputs": [],
   "source": [
    "\"\"\"\n",
    "A ¬A\n",
    "0  1\n",
    "1  0\n",
    "\"\"\""
   ]
  }
 ],
 "metadata": {
  "kernelspec": {
   "display_name": "Python 3 (ipykernel)",
   "language": "python",
   "name": "python3"
  },
  "language_info": {
   "codemirror_mode": {
    "name": "ipython",
    "version": 3
   },
   "file_extension": ".py",
   "mimetype": "text/x-python",
   "name": "python",
   "nbconvert_exporter": "python",
   "pygments_lexer": "ipython3",
   "version": "3.11.1"
  }
 },
 "nbformat": 4,
 "nbformat_minor": 5
}
