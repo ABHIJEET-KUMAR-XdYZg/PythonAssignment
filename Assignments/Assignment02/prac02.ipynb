{
 "cells": [
  {
   "cell_type": "markdown",
   "id": "d1ef0d06",
   "metadata": {},
   "source": [
    "# Use Jupyter Notebook to execute following code, try to guess what is happing in this code "
   ]
  },
  {
   "cell_type": "markdown",
   "id": "2b9caa4a",
   "metadata": {},
   "source": [
    "import numpy as np\n",
    "import matplotlib.pyplot as plt\n",
    "height=np.random.normal(140,20,1000)\n",
    "plt.figure(dpi=200)\n",
    "plt.title(\"Height Distribution\")\n",
    "plt.xlabel(\"Height (cm)\")\n",
    "plt.ylabel(\"Frequency\")\n",
    "plt.hist(height,bins=30,ec=\"gold\")"
   ]
  }
 ],
 "metadata": {
  "kernelspec": {
   "display_name": "Python 3 (ipykernel)",
   "language": "python",
   "name": "python3"
  },
  "language_info": {
   "codemirror_mode": {
    "name": "ipython",
    "version": 3
   },
   "file_extension": ".py",
   "mimetype": "text/x-python",
   "name": "python",
   "nbconvert_exporter": "python",
   "pygments_lexer": "ipython3",
   "version": "3.11.1"
  }
 },
 "nbformat": 4,
 "nbformat_minor": 5
}
