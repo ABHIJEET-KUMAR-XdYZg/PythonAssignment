{
 "cells": [
  {
   "cell_type": "markdown",
   "id": "67e8dc77",
   "metadata": {},
   "source": [
    "# Write Down difference between interpreter and compiler "
   ]
  },
  {
   "cell_type": "markdown",
   "id": "6b19495d",
   "metadata": {},
   "source": [
    "<span style=\"color:SlateBlue; font-size:25px;\">Interpreter</span>                                                      "
   ]
  },
  {
   "cell_type": "markdown",
   "id": "a0900dba",
   "metadata": {},
   "source": [
    "        Translates program one statement at a time.\n",
    "        \n",
    "        Interpreters usually take less amount of time                            \n",
    "        to analyze the source code. However, the overall\n",
    "        execution time is comparatively slower than compilers.\n",
    "        \n",
    "        No Object Code is generated, hence are memory efficient.\n",
    "        \n",
    "        Programming languages like JavaScript, Python, Ruby use interpreters."
   ]
  },
  {
   "cell_type": "markdown",
   "id": "29af6492",
   "metadata": {},
   "source": [
    "<span style=\"color:SlateBlue; font-size:25px;\">Compliler</span>"
   ]
  },
  {
   "cell_type": "markdown",
   "id": "38e70a9c",
   "metadata": {},
   "source": [
    "        Scans the entire program and translates it as a whole into machine code.\n",
    "\n",
    "        Compilers usually take a large amount of time to analyze the source code. However, the overall execution time is \n",
    "        comparatively faster than interpreters.\n",
    "\n",
    "        Generates Object Code which further requires linking, hence requires more memory.\n",
    "\n",
    "        Programming languages like C, C++, Java use compilers."
   ]
  }
 ],
 "metadata": {
  "kernelspec": {
   "display_name": "Python 3 (ipykernel)",
   "language": "python",
   "name": "python3"
  },
  "language_info": {
   "codemirror_mode": {
    "name": "ipython",
    "version": 3
   },
   "file_extension": ".py",
   "mimetype": "text/x-python",
   "name": "python",
   "nbconvert_exporter": "python",
   "pygments_lexer": "ipython3",
   "version": "3.11.1"
  }
 },
 "nbformat": 4,
 "nbformat_minor": 5
}
