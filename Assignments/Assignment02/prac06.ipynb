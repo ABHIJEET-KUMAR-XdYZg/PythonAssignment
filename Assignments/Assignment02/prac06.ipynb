{
 "cells": [
  {
   "cell_type": "markdown",
   "id": "0b8ecd9d",
   "metadata": {},
   "source": [
    "# Run all python (.py) files inside day2 folder on drive, try understanding code beneath each scripts, you will going to create those scripts by yourself in future lecture  "
   ]
  },
  {
   "cell_type": "markdown",
   "id": "7700b951",
   "metadata": {},
   "source": [
    "Done"
   ]
  }
 ],
 "metadata": {
  "kernelspec": {
   "display_name": "Python 3 (ipykernel)",
   "language": "python",
   "name": "python3"
  },
  "language_info": {
   "codemirror_mode": {
    "name": "ipython",
    "version": 3
   },
   "file_extension": ".py",
   "mimetype": "text/x-python",
   "name": "python",
   "nbconvert_exporter": "python",
   "pygments_lexer": "ipython3",
   "version": "3.11.1"
  }
 },
 "nbformat": 4,
 "nbformat_minor": 5
}
