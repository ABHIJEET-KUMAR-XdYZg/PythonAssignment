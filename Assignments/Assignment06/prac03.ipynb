{
 "cells": [
  {
   "cell_type": "markdown",
   "id": "dfcab78b",
   "metadata": {},
   "source": [
    "# What is duck typing in python, what are Dunder or special methods?  "
   ]
  },
  {
   "cell_type": "markdown",
   "id": "4d7e5ac5",
   "metadata": {},
   "source": [
    "Duck Typing refers to the principle of not constraining or binding the code to specific data types"
   ]
  },
  {
   "cell_type": "code",
   "execution_count": null,
   "id": "dd63815d",
   "metadata": {},
   "outputs": [],
   "source": [
    "\"\"\"\n",
    "Special methods allow you to define specific behavior for your objects that can be triggered by certain language-specific \n",
    "operations or built-in functions.\n",
    "__init__,__str__,__len__,__add__,__eq__\n",
    "\"\"\""
   ]
  }
 ],
 "metadata": {
  "kernelspec": {
   "display_name": "Python 3 (ipykernel)",
   "language": "python",
   "name": "python3"
  },
  "language_info": {
   "codemirror_mode": {
    "name": "ipython",
    "version": 3
   },
   "file_extension": ".py",
   "mimetype": "text/x-python",
   "name": "python",
   "nbconvert_exporter": "python",
   "pygments_lexer": "ipython3",
   "version": "3.11.1"
  }
 },
 "nbformat": 4,
 "nbformat_minor": 5
}
