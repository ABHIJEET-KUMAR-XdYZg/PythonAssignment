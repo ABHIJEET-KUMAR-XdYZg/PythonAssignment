{
 "cells": [
  {
   "cell_type": "markdown",
   "id": "a17f143b",
   "metadata": {},
   "source": [
    "# What are operators? How many types of operators are there in python? "
   ]
  },
  {
   "cell_type": "markdown",
   "id": "83f3541a",
   "metadata": {},
   "source": [
    "Operators in Python are symbols or special functions that perform operations on one or more operands (values or variables)."
   ]
  },
  {
   "cell_type": "code",
   "execution_count": null,
   "id": "f8fa9258",
   "metadata": {},
   "outputs": [],
   "source": [
    "\"\"\"\n",
    "Arithmetic operators.\n",
    "Assignment operators.\n",
    "Comparison operators.\n",
    "Logical operators.\n",
    "Identity operators.\n",
    "Membership operators.\n",
    "Bitwise operators.\n",
    "\"\"\""
   ]
  }
 ],
 "metadata": {
  "kernelspec": {
   "display_name": "Python 3 (ipykernel)",
   "language": "python",
   "name": "python3"
  },
  "language_info": {
   "codemirror_mode": {
    "name": "ipython",
    "version": 3
   },
   "file_extension": ".py",
   "mimetype": "text/x-python",
   "name": "python",
   "nbconvert_exporter": "python",
   "pygments_lexer": "ipython3",
   "version": "3.11.1"
  }
 },
 "nbformat": 4,
 "nbformat_minor": 5
}
