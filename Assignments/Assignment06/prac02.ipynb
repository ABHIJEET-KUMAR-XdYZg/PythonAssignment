{
 "cells": [
  {
   "cell_type": "markdown",
   "id": "a69017b0",
   "metadata": {},
   "source": [
    "# Create at list 5 objects using list, dictionary, it will be good if you store realistic data   "
   ]
  },
  {
   "cell_type": "code",
   "execution_count": 1,
   "id": "6de71355",
   "metadata": {},
   "outputs": [],
   "source": [
    "cart = {\n",
    "    \"items\": [\"Shirt\", \"Jeans\", \"Shoes\"],\n",
    "    \"prices\": [2000, 3999, 5999],\n",
    "    \"quantities\": [1, 2, 1]\n",
    "}"
   ]
  },
  {
   "cell_type": "code",
   "execution_count": 2,
   "id": "aea60c22",
   "metadata": {},
   "outputs": [],
   "source": [
    "grades = {\n",
    "    \"Math\": [78, 85, 92, 88, 90],\n",
    "    \"Science\": [92, 88, 95, 82, 78],\n",
    "    \"English\": [85, 90, 88, 92, 95]\n",
    "}"
   ]
  },
  {
   "cell_type": "code",
   "execution_count": 3,
   "id": "8dfd97a9",
   "metadata": {},
   "outputs": [],
   "source": [
    "movies = [\n",
    "    {\n",
    "        \"title\": \"Dilwale Dulhania Le Jayenge\",\n",
    "        \"year\": 1995,\n",
    "        \"director\": \"Aditya Chopra\",\n",
    "        \"actors\": [\"Shah Rukh Khan\", \"Kajol\"],\n",
    "        \"genre\": [\"Romance\", \"Drama\"],\n",
    "        \"rating\": 8.2\n",
    "    },\n",
    "    {\n",
    "        \"title\": \"3 Idiots\",\n",
    "        \"year\": 2009,\n",
    "        \"director\": \"Rajkumar Hirani\",\n",
    "        \"actors\": [\"Aamir Khan\", \"Kareena Kapoor\", \"R. Madhavan\"],\n",
    "        \"genre\": [\"Comedy\", \"Drama\"],\n",
    "        \"rating\": 8.4\n",
    "    }\n",
    "]"
   ]
  },
  {
   "cell_type": "code",
   "execution_count": 4,
   "id": "2dd8c64f",
   "metadata": {},
   "outputs": [],
   "source": [
    "songs = [\n",
    "    {\n",
    "        \"title\": \"Kabira\",\n",
    "        \"movie\": \"Yeh Jawaani Hai Deewani\",\n",
    "        \"year\": 2013,\n",
    "        \"singers\": [\"Tochi Raina\", \"Rekha Bhardwaj\"],\n",
    "        \"composer\": \"Pritam\",\n",
    "        \"duration\": 252,\n",
    "        \"genre\": \"Romantic\"\n",
    "    },\n",
    "    {\n",
    "        \"title\": \"Tum Hi Ho\",\n",
    "        \"movie\": \"Aashiqui 2\",\n",
    "        \"year\": 2013,\n",
    "        \"singers\": [\"Arijit Singh\"],\n",
    "        \"composer\": \"Mithoon\",\n",
    "        \"duration\": 274,\n",
    "        \"genre\": \"Romantic\"\n",
    "    }\n",
    "]"
   ]
  },
  {
   "cell_type": "code",
   "execution_count": 5,
   "id": "94d65586",
   "metadata": {},
   "outputs": [],
   "source": [
    "courses = [\n",
    "    {\n",
    "        \"course_id\": \"CS101\",\n",
    "        \"course_name\": \"Introduction to Computer Science\",\n",
    "        \"instructor\": \"Dr. John Smith\",\n",
    "        \"credits\": 3,\n",
    "        \"semester\": \"Fall 2023\",\n",
    "        \"description\": \"An introductory course covering the basics of computer science, including programming fundamentals, algorithms, and problem-solving.\"\n",
    "    },\n",
    "    {\n",
    "        \"course_id\": \"CS220\",\n",
    "        \"course_name\": \"Data Structures and Algorithms\",\n",
    "        \"instructor\": \"Prof. Jane Doe\",\n",
    "        \"credits\": 4,\n",
    "        \"semester\": \"Spring 2024\",\n",
    "        \"description\": \"A comprehensive study of data structures and algorithms, focusing on their implementation, analysis, and application in solving complex problems.\"\n",
    "    }\n",
    "]"
   ]
  }
 ],
 "metadata": {
  "kernelspec": {
   "display_name": "Python 3 (ipykernel)",
   "language": "python",
   "name": "python3"
  },
  "language_info": {
   "codemirror_mode": {
    "name": "ipython",
    "version": 3
   },
   "file_extension": ".py",
   "mimetype": "text/x-python",
   "name": "python",
   "nbconvert_exporter": "python",
   "pygments_lexer": "ipython3",
   "version": "3.11.1"
  }
 },
 "nbformat": 4,
 "nbformat_minor": 5
}
