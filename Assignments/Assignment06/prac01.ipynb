{
 "cells": [
  {
   "cell_type": "markdown",
   "id": "23ad1a97",
   "metadata": {},
   "source": [
    "# Write down 10 projects ideas you want to implement using python "
   ]
  },
  {
   "cell_type": "code",
   "execution_count": null,
   "id": "651446d6",
   "metadata": {},
   "outputs": [],
   "source": [
    "\"\"\"\n",
    "1. Movie Recommendation System Based on Genres and Reviews\n",
    "Description: In this project recommendation algorithm is used which is used\n",
    "to recommend the movies based on past data of user like it is in Netflix,\n",
    "prime etc.\n",
    "\n",
    "2. Spam not Spam Mail Classifier\n",
    "Description: In this project we will classify mails into ham and spam mails\n",
    "using machine learning algorithm with the assumption that words are\n",
    "independent of each other.\n",
    "\n",
    "3. MNIST Digit Classification Project\n",
    "Description: In this project you will learn how to classify images on basis of\n",
    "digits. You learn to separate images on basis of digits from 0 to 9.\n",
    "\n",
    "4. Sentimental Analysis on Live Twitter Data\n",
    "Description: In this project Sentimental Analysis is done on tweets whether\n",
    "the tweets are positive or negative.\n",
    "\n",
    "5. Credit Card Fraud Detection Project\n",
    "Description: Now adays there are many credit card fraud cases. So in this\n",
    "project you will learn how to detect whether the credit card is fraud or not to\n",
    "prevent further misuse.\n",
    "\n",
    "6. Image Classifier\n",
    "Description: In this project you will learn how to classify images as dirty or\n",
    "clean using model.\n",
    "\n",
    "7. Object Detection & Face Recognition\n",
    "Description: In this project you will learn how to detect objects from images\n",
    "and in face recognition you will learn to recognize face. It is a technology\n",
    "capable of identifying or verifying a person from a digital image or a video\n",
    "frame from a video source\n",
    "\n",
    "8. Text Extraction from Image\n",
    "Description: Sometimes we want text from images so in this project we will\n",
    "learn to get text from images.\n",
    "\n",
    "9. Clustering Venues Based on Similarity\n",
    "Description: We will Find venue in different regions and compare their\n",
    "ratings, popularity, and other things to cluster most significant places to open\n",
    "business based on venues.\n",
    "\n",
    "\"\"\""
   ]
  }
 ],
 "metadata": {
  "kernelspec": {
   "display_name": "Python 3 (ipykernel)",
   "language": "python",
   "name": "python3"
  },
  "language_info": {
   "codemirror_mode": {
    "name": "ipython",
    "version": 3
   },
   "file_extension": ".py",
   "mimetype": "text/x-python",
   "name": "python",
   "nbconvert_exporter": "python",
   "pygments_lexer": "ipython3",
   "version": "3.11.1"
  }
 },
 "nbformat": 4,
 "nbformat_minor": 5
}
