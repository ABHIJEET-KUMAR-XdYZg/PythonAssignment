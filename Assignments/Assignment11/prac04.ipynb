{
 "cells": [
  {
   "cell_type": "markdown",
   "id": "c56b5613",
   "metadata": {},
   "source": [
    "# Write Python Code to print these patterns "
   ]
  },
  {
   "cell_type": "markdown",
   "id": "55b13f42",
   "metadata": {},
   "source": [
    "# Part Z3"
   ]
  },
  {
   "cell_type": "code",
   "execution_count": 1,
   "id": "75388bff",
   "metadata": {},
   "outputs": [
    {
     "name": "stdout",
     "output_type": "stream",
     "text": [
      "Enter n : 5\n",
      "    *    \n",
      "   ***   \n",
      "  *****  \n",
      " ******* \n",
      "*********\n",
      " ******* \n",
      "  *****  \n",
      "   ***   \n",
      "    *    \n"
     ]
    }
   ],
   "source": [
    "def operation(n):\n",
    "        for i in range(n):\n",
    "            for j in range(n-i-1):\n",
    "                print(\" \",end=\"\")\n",
    "            for j in range(2*i+1):\n",
    "                print('*',end=\"\")\n",
    "            for j in range(n-i-1):\n",
    "                print(\" \",end=\"\")\n",
    "            print()\n",
    "        for i in range(1,n):\n",
    "            for j in range(i):\n",
    "                print(' ',end=\"\")\n",
    "            for j in range(2*(n-i)-1):\n",
    "                print('*',end=\"\")\n",
    "            for j in range(i):\n",
    "                print(' ',end=\"\")\n",
    "            print()\n",
    "operation(int(input(\"Enter n : \")))"
   ]
  },
  {
   "cell_type": "markdown",
   "id": "688eb237",
   "metadata": {},
   "source": [
    "### Part Z4"
   ]
  },
  {
   "cell_type": "code",
   "execution_count": 2,
   "id": "edb5c893",
   "metadata": {},
   "outputs": [
    {
     "name": "stdout",
     "output_type": "stream",
     "text": [
      "Enter n : 5\n",
      "    1    \n",
      "   222   \n",
      "  33333  \n",
      " 4444444 \n",
      "555555555\n",
      " 4444444 \n",
      "  33333  \n",
      "   222   \n",
      "    1    \n"
     ]
    }
   ],
   "source": [
    "def operation(n):\n",
    "        for i in range(n):\n",
    "            for j in range(n-i-1):\n",
    "                print(\" \",end=\"\")\n",
    "            for j in range(2*i+1):\n",
    "                print(i+1,end=\"\")\n",
    "            for j in range(n-i-1):\n",
    "                print(\" \",end=\"\")\n",
    "            print()\n",
    "        for i in range(1,n):\n",
    "            for j in range(i):\n",
    "                print(' ',end=\"\")\n",
    "            for j in range(2*(n-i)-1):\n",
    "                print(n-i,end=\"\")\n",
    "            for j in range(i):\n",
    "                print(' ',end=\"\")\n",
    "            print()\n",
    "operation(int(input(\"Enter n : \")))"
   ]
  },
  {
   "cell_type": "markdown",
   "id": "3e2322af",
   "metadata": {},
   "source": [
    "### Part Z5"
   ]
  },
  {
   "cell_type": "code",
   "execution_count": 3,
   "id": "bc71eebf",
   "metadata": {},
   "outputs": [
    {
     "name": "stdout",
     "output_type": "stream",
     "text": [
      "Enter n : 5\n",
      "    1    \n",
      "   123   \n",
      "  12345  \n",
      " 1234567 \n",
      "123456789\n",
      " 1234567 \n",
      "  12345  \n",
      "   123   \n",
      "    1    \n"
     ]
    }
   ],
   "source": [
    "def operation(n):\n",
    "        for i in range(n):\n",
    "            for j in range(n-i-1):\n",
    "                print(\" \",end=\"\")\n",
    "            for j in range(2*i+1):\n",
    "                print(j+1,end=\"\")\n",
    "            for j in range(n-i-1):\n",
    "                print(\" \",end=\"\")\n",
    "            print()\n",
    "        for i in range(1,n):\n",
    "            for j in range(i):\n",
    "                print(' ',end=\"\")\n",
    "            for j in range(2*(n-i)-1):\n",
    "                print(j+1,end=\"\")\n",
    "            for j in range(i):\n",
    "                print(' ',end=\"\")\n",
    "            print()\n",
    "operation(int(input(\"Enter n : \")))"
   ]
  },
  {
   "cell_type": "markdown",
   "id": "900c05d0",
   "metadata": {},
   "source": [
    "### Part Z6"
   ]
  },
  {
   "cell_type": "code",
   "execution_count": 4,
   "id": "c2a85389",
   "metadata": {},
   "outputs": [
    {
     "name": "stdout",
     "output_type": "stream",
     "text": [
      "Enter n : 5\n",
      "    1    \n",
      "   232   \n",
      "  34543  \n",
      " 4567654 \n",
      "567898765\n",
      " 4567654 \n",
      "  34543  \n",
      "   232   \n",
      "    1    \n"
     ]
    }
   ],
   "source": [
    "def operation(n):\n",
    "    t=1\n",
    "    for i in range(n):\n",
    "        t=i+1\n",
    "        for j in range(n-i-1):\n",
    "            print(' ',end=\"\")\n",
    "        for j in range(i):\n",
    "            print(t,end=\"\")\n",
    "            t+=1\n",
    "        print(t,end=\"\")\n",
    "        t-=1\n",
    "        for j in range(i):\n",
    "            print(t,end=\"\")\n",
    "            t-=1\n",
    "        for j in range(n-i-1):\n",
    "            print(' ',end=\"\")\n",
    "        print()\n",
    "    for i in range(1,n):\n",
    "        t=n-i\n",
    "        for j in range(i):\n",
    "            print(' ',end=\"\")\n",
    "        for j in range(n-i-1):\n",
    "            print(t,end=\"\")\n",
    "            t+=1\n",
    "        print(t,end=\"\")\n",
    "        t-=1\n",
    "        for j in range(n-i-1):\n",
    "            print(t,end=\"\")\n",
    "            t-=1\n",
    "        for j in range(i):\n",
    "            print(' ',end=\"\")\n",
    "        print()\n",
    "operation(int(input(\"Enter n : \")))"
   ]
  },
  {
   "cell_type": "markdown",
   "id": "16b51000",
   "metadata": {},
   "source": [
    "### Part Z7"
   ]
  },
  {
   "cell_type": "code",
   "execution_count": 6,
   "id": "1656c92b",
   "metadata": {},
   "outputs": [
    {
     "name": "stdout",
     "output_type": "stream",
     "text": [
      "Enter n : 5\n",
      "    5    \n",
      "   545   \n",
      "  54345  \n",
      " 5432345 \n",
      "543212345\n",
      " 5432345 \n",
      "  54345  \n",
      "   545   \n",
      "    5    \n"
     ]
    }
   ],
   "source": [
    "def operation(n):\n",
    "    t=1\n",
    "    for i in range(n):\n",
    "        t=n\n",
    "        for j in range(n-i-1):\n",
    "            print(' ',end=\"\")\n",
    "        for j in range(i):\n",
    "            print(t,end=\"\")\n",
    "            t-=1\n",
    "        print(t,end=\"\")\n",
    "        t+=1\n",
    "        for j in range(i):\n",
    "            print(t,end=\"\")\n",
    "            t+=1\n",
    "        for j in range(n-i-1):\n",
    "            print(' ',end=\"\")\n",
    "        print()\n",
    "    for i in range(1,n):\n",
    "        t=n\n",
    "        for j in range(i):\n",
    "            print(' ',end=\"\")\n",
    "        for j in range(n-i-1):\n",
    "            print(t,end=\"\")\n",
    "            t-=1\n",
    "        print(t,end=\"\")\n",
    "        t+=1\n",
    "        for j in range(n-i-1):\n",
    "            print(t,end=\"\")\n",
    "            t+=1\n",
    "        for j in range(i):\n",
    "            print(' ',end=\"\")\n",
    "        print()\n",
    "operation(int(input(\"Enter n : \")))"
   ]
  },
  {
   "cell_type": "markdown",
   "id": "a3cc6804",
   "metadata": {},
   "source": [
    "### 62-A"
   ]
  },
  {
   "cell_type": "code",
   "execution_count": 8,
   "id": "a820f390",
   "metadata": {},
   "outputs": [
    {
     "name": "stdout",
     "output_type": "stream",
     "text": [
      "Enter n : 7\n",
      "* * * * * * *\n",
      "* * * * * * *\n",
      "* * * * * * *\n",
      "* * * * * * *\n",
      "* * * * * * *\n",
      "* * * * * * *\n",
      "* * * * * * *\n"
     ]
    }
   ],
   "source": [
    "def operation(n):\n",
    "    for i in range(n):\n",
    "        for j in range(2*n-1):\n",
    "            if(j%2):\n",
    "                print(' ',end=\"\")\n",
    "            else:\n",
    "                print('*',end=\"\")\n",
    "        print()\n",
    "operation(int(input(\"Enter n : \")))"
   ]
  },
  {
   "cell_type": "markdown",
   "id": "2ba13898",
   "metadata": {},
   "source": [
    "### 62-B"
   ]
  },
  {
   "cell_type": "code",
   "execution_count": 10,
   "id": "5317dfb1",
   "metadata": {},
   "outputs": [
    {
     "name": "stdout",
     "output_type": "stream",
     "text": [
      "Enter n : 7\n",
      "*******\n",
      "*     *\n",
      "*     *\n",
      "*     *\n",
      "*     *\n",
      "*     *\n",
      "*******\n"
     ]
    }
   ],
   "source": [
    "def operation(n):\n",
    "    for i in range(n):\n",
    "        if(i==0 or i==n-1):\n",
    "            print('*'*(n))\n",
    "        else:\n",
    "            print('*'+' '*(n-2)+'*')\n",
    "operation(int(input(\"Enter n : \")))"
   ]
  },
  {
   "cell_type": "markdown",
   "id": "b3bc39c7",
   "metadata": {},
   "source": [
    "### 63-C"
   ]
  },
  {
   "cell_type": "code",
   "execution_count": 15,
   "id": "9680319b",
   "metadata": {},
   "outputs": [
    {
     "name": "stdout",
     "output_type": "stream",
     "text": [
      "Enter n : 7\n",
      "\\*****/\n",
      "*\\***/*\n",
      "**\\*/**\n",
      "***\\***\n",
      "**/*\\**\n",
      "*/***\\*\n",
      "/*****\\\n"
     ]
    }
   ],
   "source": [
    "def operation(n):\n",
    "    for i in range(n):\n",
    "        for j in range(n):\n",
    "            if(j==i):\n",
    "                print('\\\\',end=\"\")\n",
    "            elif(j==n-i-1):\n",
    "                print('/',end=\"\")\n",
    "            else:\n",
    "                print('*',end=\"\")\n",
    "        print()\n",
    "operation(int(input(\"Enter n : \")))"
   ]
  }
 ],
 "metadata": {
  "kernelspec": {
   "display_name": "Python 3 (ipykernel)",
   "language": "python",
   "name": "python3"
  },
  "language_info": {
   "codemirror_mode": {
    "name": "ipython",
    "version": 3
   },
   "file_extension": ".py",
   "mimetype": "text/x-python",
   "name": "python",
   "nbconvert_exporter": "python",
   "pygments_lexer": "ipython3",
   "version": "3.11.1"
  }
 },
 "nbformat": 4,
 "nbformat_minor": 5
}
