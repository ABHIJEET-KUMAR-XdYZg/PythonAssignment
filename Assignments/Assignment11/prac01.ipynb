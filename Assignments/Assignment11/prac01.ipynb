{
 "cells": [
  {
   "cell_type": "markdown",
   "id": "6623653f",
   "metadata": {},
   "source": [
    "# Write Python Code to print these patterns "
   ]
  },
  {
   "cell_type": "markdown",
   "id": "c5a4c20c",
   "metadata": {},
   "source": [
    "### Part A"
   ]
  },
  {
   "cell_type": "code",
   "execution_count": 5,
   "id": "d0b2c009",
   "metadata": {},
   "outputs": [
    {
     "name": "stdout",
     "output_type": "stream",
     "text": [
      "Enter n : 4\n",
      "*\n",
      "**\n",
      "***\n",
      "****\n"
     ]
    }
   ],
   "source": [
    "def operation(n):\n",
    "    for i in range(n):\n",
    "        for j in range(i+1):\n",
    "            print('* ',end=\"\")\n",
    "        print()\n",
    "operation(int(input(\"Enter n : \")))"
   ]
  },
  {
   "cell_type": "markdown",
   "id": "67863016",
   "metadata": {},
   "source": [
    "### Part B"
   ]
  },
  {
   "cell_type": "code",
   "execution_count": 17,
   "id": "636d91e9",
   "metadata": {},
   "outputs": [
    {
     "name": "stdout",
     "output_type": "stream",
     "text": [
      "Enter n : 5\n",
      "1 \n",
      "2 2 \n",
      "3 3 3 \n",
      "4 4 4 4 \n",
      "5 5 5 5 5 \n"
     ]
    }
   ],
   "source": [
    "def operation(n):\n",
    "    for i in range(n):\n",
    "        for j in range(i+1):\n",
    "            print(f\"{i+1} \",end=\"\")\n",
    "        print()\n",
    "operation(int(input(\"Enter n : \")))"
   ]
  },
  {
   "cell_type": "markdown",
   "id": "d35b1862",
   "metadata": {},
   "source": [
    "### Part C"
   ]
  },
  {
   "cell_type": "code",
   "execution_count": 18,
   "id": "71784fc8",
   "metadata": {},
   "outputs": [
    {
     "name": "stdout",
     "output_type": "stream",
     "text": [
      "Enter n : 5\n",
      "1 \n",
      "1 2 \n",
      "1 2 3 \n",
      "1 2 3 4 \n",
      "1 2 3 4 5 \n"
     ]
    }
   ],
   "source": [
    "def operation(n):\n",
    "    for i in range(n):\n",
    "        for j in range(i+1):\n",
    "            print(f\"{j+1} \",end=\"\")\n",
    "        print()\n",
    "operation(int(input(\"Enter n : \")))"
   ]
  },
  {
   "cell_type": "markdown",
   "id": "ba0d668a",
   "metadata": {},
   "source": [
    "### Part D"
   ]
  },
  {
   "cell_type": "code",
   "execution_count": 20,
   "id": "6fc78c9b",
   "metadata": {
    "scrolled": true
   },
   "outputs": [
    {
     "name": "stdout",
     "output_type": "stream",
     "text": [
      "Enter n : 5\n",
      "2 \n",
      "3 4 \n",
      "4 5 6 \n",
      "5 6 7 8 \n",
      "6 7 8 9 10 \n"
     ]
    }
   ],
   "source": [
    "def operation(n):\n",
    "    t=2\n",
    "    for i in range(n):\n",
    "        for j in range(i+1):\n",
    "            print(f\"{t} \",end=\"\")\n",
    "            t+=1\n",
    "        t-=i\n",
    "        print()\n",
    "operation(int(input(\"Enter n : \")))"
   ]
  },
  {
   "cell_type": "markdown",
   "id": "c24f0383",
   "metadata": {},
   "source": [
    "### Part E"
   ]
  },
  {
   "cell_type": "code",
   "execution_count": 22,
   "id": "4b29ee76",
   "metadata": {},
   "outputs": [
    {
     "name": "stdout",
     "output_type": "stream",
     "text": [
      "Enter n : 5\n",
      "1 \n",
      "0 1 \n",
      "1 0 1 \n",
      "0 1 0 1 \n",
      "1 0 1 0 1 \n"
     ]
    }
   ],
   "source": [
    "def operation(n):\n",
    "    for i in range(n):\n",
    "        for j in range(i+1):\n",
    "            if(i%2):\n",
    "                if(j%2):\n",
    "                    print('1',end=\"\")\n",
    "                else:\n",
    "                    print('0',end=\"\")\n",
    "            else:\n",
    "                if(j%2):\n",
    "                    print('0',end=\"\")\n",
    "                else:\n",
    "                    print('1',end=\"\")\n",
    "            print(' ',end=\"\")\n",
    "        print()\n",
    "operation(int(input(\"Enter n : \")))"
   ]
  },
  {
   "cell_type": "markdown",
   "id": "10ced7ee",
   "metadata": {},
   "source": [
    "### Part F"
   ]
  },
  {
   "cell_type": "code",
   "execution_count": 23,
   "id": "c94d5dd0",
   "metadata": {},
   "outputs": [
    {
     "name": "stdout",
     "output_type": "stream",
     "text": [
      "Enter n : 5\n",
      "1 \n",
      "2 3 \n",
      "4 5 6 \n",
      "7 8 9 10 \n",
      "11 12 13 14 15 \n"
     ]
    }
   ],
   "source": [
    "def operation(n):\n",
    "    t=1\n",
    "    for i in range(n):\n",
    "        for j in range(i+1):\n",
    "            print(f\"{t} \",end=\"\")\n",
    "            t+=1\n",
    "        print()\n",
    "operation(int(input(\"Enter n : \")))"
   ]
  },
  {
   "cell_type": "markdown",
   "id": "b823d7aa",
   "metadata": {},
   "source": [
    "### Part G"
   ]
  },
  {
   "cell_type": "code",
   "execution_count": 24,
   "id": "d57a94c1",
   "metadata": {},
   "outputs": [
    {
     "name": "stdout",
     "output_type": "stream",
     "text": [
      "Enter n : 5\n",
      "5 \n",
      "5 4 \n",
      "5 4 3 \n",
      "5 4 3 2 \n",
      "5 4 3 2 1 \n"
     ]
    }
   ],
   "source": [
    "def operation(n):\n",
    "    for i in range(n):\n",
    "        for j in range(i+1):\n",
    "            print(f\"{n-j} \",end=\"\")\n",
    "        print()\n",
    "operation(int(input(\"Enter n : \")))"
   ]
  },
  {
   "cell_type": "markdown",
   "id": "8e77db9f",
   "metadata": {},
   "source": [
    "### Part H"
   ]
  },
  {
   "cell_type": "code",
   "execution_count": 26,
   "id": "e6ec6ebc",
   "metadata": {},
   "outputs": [
    {
     "name": "stdout",
     "output_type": "stream",
     "text": [
      "Enter n : 5\n",
      "5 \n",
      "4 4 \n",
      "3 3 3 \n",
      "2 2 2 2 \n",
      "1 1 1 1 1 \n"
     ]
    }
   ],
   "source": [
    "def operation(n):\n",
    "    for i in range(n):\n",
    "        for j in range(i+1):\n",
    "            print(f\"{n-i} \",end=\"\")\n",
    "        print()\n",
    "operation(int(input(\"Enter n : \")))"
   ]
  },
  {
   "cell_type": "markdown",
   "id": "63e70029",
   "metadata": {},
   "source": [
    "### Part I"
   ]
  },
  {
   "cell_type": "code",
   "execution_count": 27,
   "id": "55058f1d",
   "metadata": {},
   "outputs": [
    {
     "name": "stdout",
     "output_type": "stream",
     "text": [
      "Enter n : 5\n",
      "* * * * * \n",
      "* * * * \n",
      "* * * \n",
      "* * \n",
      "* \n"
     ]
    }
   ],
   "source": [
    "def operation(n):\n",
    "    for i in range(n):\n",
    "        for j in range(n-i):\n",
    "            print(f\"* \",end=\"\")\n",
    "        print()\n",
    "operation(int(input(\"Enter n : \")))"
   ]
  },
  {
   "cell_type": "markdown",
   "id": "05fe47f2",
   "metadata": {},
   "source": [
    "### Part J"
   ]
  },
  {
   "cell_type": "code",
   "execution_count": 47,
   "id": "d2e1fd13",
   "metadata": {},
   "outputs": [
    {
     "name": "stdout",
     "output_type": "stream",
     "text": [
      "Enter n : 5\n",
      "1 1 1 1 1 \n",
      "2 2 2 2 \n",
      "3 3 3 \n",
      "2 2 \n",
      "1 \n"
     ]
    }
   ],
   "source": [
    "def div(n):\n",
    "    return n//2+1 if n%2 else n//2\n",
    "def operation(n):\n",
    "    t=1\n",
    "    f=c=0\n",
    "    for i in range(n):\n",
    "        if c==0:\n",
    "            if(t>div(n)):\n",
    "                t=div(n)-1 if n%2 else div(n)\n",
    "                f=c=1\n",
    "            else:\n",
    "                f=0\n",
    "        for j in range(n-i):\n",
    "            print(f\"{t} \",end=\"\")\n",
    "        print()\n",
    "        if(f):\n",
    "            t-=1\n",
    "        else:\n",
    "            t+=1\n",
    "operation(int(input(\"Enter n : \")))"
   ]
  },
  {
   "cell_type": "markdown",
   "id": "14efb64a",
   "metadata": {},
   "source": [
    "### Part K"
   ]
  },
  {
   "cell_type": "code",
   "execution_count": 49,
   "id": "372f9955",
   "metadata": {},
   "outputs": [
    {
     "name": "stdout",
     "output_type": "stream",
     "text": [
      "Enter n : 5\n",
      "1 2 3 4 5 \n",
      "1 2 3 4 \n",
      "1 2 3 \n",
      "1 2 \n",
      "1 \n"
     ]
    }
   ],
   "source": [
    "def operation(n):\n",
    "    for i in range(n):\n",
    "        for j in range(n-i):\n",
    "            print(f\"{j+1} \",end=\"\")\n",
    "        print()\n",
    "operation(int(input(\"Enter n : \")))"
   ]
  },
  {
   "cell_type": "markdown",
   "id": "e634f03d",
   "metadata": {},
   "source": [
    "### Part L"
   ]
  },
  {
   "cell_type": "code",
   "execution_count": 51,
   "id": "706729e3",
   "metadata": {},
   "outputs": [
    {
     "name": "stdout",
     "output_type": "stream",
     "text": [
      "Enter n : 5\n",
      "5 5 5 5 5 \n",
      "4 4 4 4 \n",
      "3 3 3 \n",
      "2 2 \n",
      "1 \n"
     ]
    }
   ],
   "source": [
    "def operation(n):\n",
    "    for i in range(n):\n",
    "        for j in range(n-i):\n",
    "            print(f\"{n-i} \",end=\"\")\n",
    "        print()\n",
    "operation(int(input(\"Enter n : \")))"
   ]
  },
  {
   "cell_type": "markdown",
   "id": "82801ead",
   "metadata": {},
   "source": [
    "### Part M"
   ]
  },
  {
   "cell_type": "code",
   "execution_count": 53,
   "id": "4b893b03",
   "metadata": {},
   "outputs": [
    {
     "name": "stdout",
     "output_type": "stream",
     "text": [
      "Enter n : 5\n",
      "5 4 3 2 1 \n",
      "5 4 3 2 \n",
      "5 4 3 \n",
      "5 4 \n",
      "5 \n"
     ]
    }
   ],
   "source": [
    "def operation(n):\n",
    "    for i in range(n):\n",
    "        for j in range(n-i):\n",
    "            print(f\"{n-j} \",end=\"\")\n",
    "        print()\n",
    "operation(int(input(\"Enter n : \")))"
   ]
  }
 ],
 "metadata": {
  "kernelspec": {
   "display_name": "Python 3 (ipykernel)",
   "language": "python",
   "name": "python3"
  },
  "language_info": {
   "codemirror_mode": {
    "name": "ipython",
    "version": 3
   },
   "file_extension": ".py",
   "mimetype": "text/x-python",
   "name": "python",
   "nbconvert_exporter": "python",
   "pygments_lexer": "ipython3",
   "version": "3.11.1"
  }
 },
 "nbformat": 4,
 "nbformat_minor": 5
}
