{
 "cells": [
  {
   "cell_type": "markdown",
   "id": "ecb6876d",
   "metadata": {},
   "source": [
    "# Write Python Code to print these patterns "
   ]
  },
  {
   "cell_type": "markdown",
   "id": "8a341805",
   "metadata": {},
   "source": [
    "### Part V"
   ]
  },
  {
   "cell_type": "code",
   "execution_count": 12,
   "id": "962872a2",
   "metadata": {},
   "outputs": [
    {
     "name": "stdout",
     "output_type": "stream",
     "text": [
      "Enter n : 5\n",
      "    1    \n",
      "   232   \n",
      "  34543  \n",
      " 4567654 \n",
      "567898765\n"
     ]
    }
   ],
   "source": [
    "def operation(n):\n",
    "    t=1\n",
    "    for i in range(n):\n",
    "        t=i+1\n",
    "        for j in range(n-i-1):\n",
    "            print(' ',end=\"\")\n",
    "        for j in range(i):\n",
    "            print(t,end=\"\")\n",
    "            t+=1\n",
    "        print(t,end=\"\")\n",
    "        t-=1\n",
    "        for j in range(i):\n",
    "            print(t,end=\"\")\n",
    "            t-=1\n",
    "        for j in range(n-i-1):\n",
    "            print(' ',end=\"\")\n",
    "        print()\n",
    "operation(int(input(\"Enter n : \")))"
   ]
  },
  {
   "cell_type": "markdown",
   "id": "c694f843",
   "metadata": {},
   "source": [
    "### Part W"
   ]
  },
  {
   "cell_type": "code",
   "execution_count": 13,
   "id": "0d7676b6",
   "metadata": {},
   "outputs": [
    {
     "name": "stdout",
     "output_type": "stream",
     "text": [
      "Enter n : 5\n",
      "    5    \n",
      "   545   \n",
      "  54345  \n",
      " 5432345 \n",
      "543212345\n"
     ]
    }
   ],
   "source": [
    "def operation(n):\n",
    "    t=1\n",
    "    for i in range(n):\n",
    "        t=n\n",
    "        for j in range(n-i-1):\n",
    "            print(' ',end=\"\")\n",
    "        for j in range(i):\n",
    "            print(t,end=\"\")\n",
    "            t-=1\n",
    "        print(t,end=\"\")\n",
    "        t+=1\n",
    "        for j in range(i):\n",
    "            print(t,end=\"\")\n",
    "            t+=1\n",
    "        for j in range(n-i-1):\n",
    "            print(' ',end=\"\")\n",
    "        print()\n",
    "operation(int(input(\"Enter n : \")))"
   ]
  },
  {
   "cell_type": "markdown",
   "id": "7ec5c7a3",
   "metadata": {},
   "source": [
    "### Part X"
   ]
  },
  {
   "cell_type": "code",
   "execution_count": 14,
   "id": "249d794e",
   "metadata": {},
   "outputs": [
    {
     "name": "stdout",
     "output_type": "stream",
     "text": [
      "Enter n : 5\n",
      "*********\n",
      " ******* \n",
      "  *****  \n",
      "   ***   \n",
      "    *    \n"
     ]
    }
   ],
   "source": [
    "def operation(n):\n",
    "    for i in range(n):\n",
    "        for j in range(i):\n",
    "            print(' ',end=\"\")\n",
    "        for j in range(2*(n-i)-1):\n",
    "            print('*',end=\"\")\n",
    "        for j in range(i):\n",
    "            print(' ',end=\"\")\n",
    "        print()\n",
    "operation(int(input(\"Enter n : \")))"
   ]
  },
  {
   "cell_type": "markdown",
   "id": "ba1b8704",
   "metadata": {},
   "source": [
    "### Part Y"
   ]
  },
  {
   "cell_type": "code",
   "execution_count": 15,
   "id": "ff3db697",
   "metadata": {},
   "outputs": [
    {
     "name": "stdout",
     "output_type": "stream",
     "text": [
      "Enter n : 5\n",
      "555555555\n",
      " 4444444 \n",
      "  33333  \n",
      "   222   \n",
      "    1    \n"
     ]
    }
   ],
   "source": [
    "def operation(n):\n",
    "    for i in range(n):\n",
    "        for j in range(i):\n",
    "            print(' ',end=\"\")\n",
    "        for j in range(2*(n-i)-1):\n",
    "            print(n-i,end=\"\")\n",
    "        for j in range(i):\n",
    "            print(' ',end=\"\")\n",
    "        print()\n",
    "operation(int(input(\"Enter n : \")))"
   ]
  },
  {
   "cell_type": "markdown",
   "id": "4dc37c32",
   "metadata": {},
   "source": [
    "### Part Z"
   ]
  },
  {
   "cell_type": "code",
   "execution_count": 16,
   "id": "4c33c157",
   "metadata": {},
   "outputs": [
    {
     "name": "stdout",
     "output_type": "stream",
     "text": [
      "Enter n : 5\n",
      "123456789\n",
      " 1234567 \n",
      "  12345  \n",
      "   123   \n",
      "    1    \n"
     ]
    }
   ],
   "source": [
    "def operation(n):\n",
    "    for i in range(n):\n",
    "        for j in range(i):\n",
    "            print(' ',end=\"\")\n",
    "        for j in range(2*(n-i)-1):\n",
    "            print(j+1,end=\"\")\n",
    "        for j in range(i):\n",
    "            print(' ',end=\"\")\n",
    "        print()\n",
    "operation(int(input(\"Enter n : \")))"
   ]
  },
  {
   "cell_type": "markdown",
   "id": "37dddff4",
   "metadata": {},
   "source": [
    "### Part Z1"
   ]
  },
  {
   "cell_type": "code",
   "execution_count": 19,
   "id": "e9044440",
   "metadata": {},
   "outputs": [
    {
     "name": "stdout",
     "output_type": "stream",
     "text": [
      "Enter n : 5\n",
      "567898765\n",
      " 4567654 \n",
      "  34543  \n",
      "   232   \n",
      "    1    \n"
     ]
    }
   ],
   "source": [
    "def operation(n):\n",
    "    for i in range(n):\n",
    "        t=n-i\n",
    "        for j in range(i):\n",
    "            print(' ',end=\"\")\n",
    "        for j in range(n-i-1):\n",
    "            print(t,end=\"\")\n",
    "            t+=1\n",
    "        print(t,end=\"\")\n",
    "        t-=1\n",
    "        for j in range(n-i-1):\n",
    "            print(t,end=\"\")\n",
    "            t-=1\n",
    "        for j in range(i):\n",
    "            print(' ',end=\"\")\n",
    "        print()\n",
    "operation(int(input(\"Enter n : \")))"
   ]
  },
  {
   "cell_type": "markdown",
   "id": "9e020975",
   "metadata": {},
   "source": [
    "### Part Z2"
   ]
  },
  {
   "cell_type": "code",
   "execution_count": 21,
   "id": "2eb4b726",
   "metadata": {},
   "outputs": [
    {
     "name": "stdout",
     "output_type": "stream",
     "text": [
      "Enter n : 5\n",
      "543212345\n",
      " 5432345 \n",
      "  54345  \n",
      "   545   \n",
      "    5    \n"
     ]
    }
   ],
   "source": [
    "def operation(n):\n",
    "    for i in range(n):\n",
    "        t=n\n",
    "        for j in range(i):\n",
    "            print(' ',end=\"\")\n",
    "        for j in range(n-i-1):\n",
    "            print(t,end=\"\")\n",
    "            t-=1\n",
    "        print(t,end=\"\")\n",
    "        t+=1\n",
    "        for j in range(n-i-1):\n",
    "            print(t,end=\"\")\n",
    "            t+=1\n",
    "        for j in range(i):\n",
    "            print(' ',end=\"\")\n",
    "        print()\n",
    "operation(int(input(\"Enter n : \")))"
   ]
  }
 ],
 "metadata": {
  "kernelspec": {
   "display_name": "Python 3 (ipykernel)",
   "language": "python",
   "name": "python3"
  },
  "language_info": {
   "codemirror_mode": {
    "name": "ipython",
    "version": 3
   },
   "file_extension": ".py",
   "mimetype": "text/x-python",
   "name": "python",
   "nbconvert_exporter": "python",
   "pygments_lexer": "ipython3",
   "version": "3.11.1"
  }
 },
 "nbformat": 4,
 "nbformat_minor": 5
}
