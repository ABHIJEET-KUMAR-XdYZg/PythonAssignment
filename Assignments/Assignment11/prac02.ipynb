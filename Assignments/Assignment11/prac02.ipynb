{
 "cells": [
  {
   "cell_type": "markdown",
   "id": "9f0684bf",
   "metadata": {},
   "source": [
    "# Write Python Code to print these patterns "
   ]
  },
  {
   "cell_type": "markdown",
   "id": "865a1463",
   "metadata": {},
   "source": [
    "### Part R"
   ]
  },
  {
   "cell_type": "code",
   "execution_count": 4,
   "id": "f65a14a0",
   "metadata": {},
   "outputs": [
    {
     "name": "stdout",
     "output_type": "stream",
     "text": [
      "Enter n : 5\n",
      "    *    \n",
      "   ***   \n",
      "  *****  \n",
      " ******* \n",
      "*********\n"
     ]
    }
   ],
   "source": [
    "def operation(n):\n",
    "        for i in range(n):\n",
    "            for j in range(n-i-1):\n",
    "                print(\" \",end=\"\")\n",
    "            for j in range(2*i+1):\n",
    "                print('*',end=\"\")\n",
    "            for j in range(n-i-1):\n",
    "                print(\" \",end=\"\")\n",
    "            print()\n",
    "operation(int(input(\"Enter n : \")))"
   ]
  },
  {
   "cell_type": "markdown",
   "id": "d33c0f46",
   "metadata": {},
   "source": [
    "### Part S"
   ]
  },
  {
   "cell_type": "code",
   "execution_count": 5,
   "id": "25f4e002",
   "metadata": {},
   "outputs": [
    {
     "name": "stdout",
     "output_type": "stream",
     "text": [
      "Enter n : 5\n",
      "    1    \n",
      "   222   \n",
      "  33333  \n",
      " 4444444 \n",
      "555555555\n"
     ]
    }
   ],
   "source": [
    "def operation(n):\n",
    "        for i in range(n):\n",
    "            for j in range(n-i-1):\n",
    "                print(\" \",end=\"\")\n",
    "            for j in range(2*i+1):\n",
    "                print(i+1,end=\"\")\n",
    "            for j in range(n-i-1):\n",
    "                print(\" \",end=\"\")\n",
    "            print()\n",
    "operation(int(input(\"Enter n : \")))"
   ]
  },
  {
   "cell_type": "markdown",
   "id": "44389e8b",
   "metadata": {},
   "source": [
    "### Part T"
   ]
  },
  {
   "cell_type": "code",
   "execution_count": 6,
   "id": "94b74c59",
   "metadata": {},
   "outputs": [
    {
     "name": "stdout",
     "output_type": "stream",
     "text": [
      "Enter n : 5\n",
      "    1    \n",
      "   123   \n",
      "  12345  \n",
      " 1234567 \n",
      "123456789\n"
     ]
    }
   ],
   "source": [
    "def operation(n):\n",
    "        for i in range(n):\n",
    "            for j in range(n-i-1):\n",
    "                print(\" \",end=\"\")\n",
    "            for j in range(2*i+1):\n",
    "                print(j+1,end=\"\")\n",
    "            for j in range(n-i-1):\n",
    "                print(\" \",end=\"\")\n",
    "            print()\n",
    "operation(int(input(\"Enter n : \")))"
   ]
  },
  {
   "cell_type": "markdown",
   "id": "ad8e33a9",
   "metadata": {},
   "source": [
    "### Part U"
   ]
  },
  {
   "cell_type": "code",
   "execution_count": 11,
   "id": "cd6b2fb1",
   "metadata": {},
   "outputs": [
    {
     "name": "stdout",
     "output_type": "stream",
     "text": [
      "Enter n : 5\n",
      "        *        \n",
      "      * * *      \n",
      "    * * * * *    \n",
      "  * * * * * * *  \n",
      "* * * * * * * * *\n"
     ]
    }
   ],
   "source": [
    "def operation(n):\n",
    "        for i in range(n):\n",
    "            for j in range(2*(n-i-1)):\n",
    "                print(\" \",end=\"\")\n",
    "            for j in range(4*(i+1)-3):\n",
    "                if(j%2):\n",
    "                    print(\" \",end=\"\")\n",
    "                else:\n",
    "                    print(\"*\",end=\"\")\n",
    "            for j in range(2*(n-i-1)):\n",
    "                print(\" \",end=\"\")\n",
    "            print()\n",
    "operation(int(input(\"Enter n : \")))"
   ]
  }
 ],
 "metadata": {
  "kernelspec": {
   "display_name": "Python 3 (ipykernel)",
   "language": "python",
   "name": "python3"
  },
  "language_info": {
   "codemirror_mode": {
    "name": "ipython",
    "version": 3
   },
   "file_extension": ".py",
   "mimetype": "text/x-python",
   "name": "python",
   "nbconvert_exporter": "python",
   "pygments_lexer": "ipython3",
   "version": "3.11.1"
  }
 },
 "nbformat": 4,
 "nbformat_minor": 5
}
