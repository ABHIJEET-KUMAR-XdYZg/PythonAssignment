{
 "cells": [
  {
   "cell_type": "markdown",
   "id": "05692acf",
   "metadata": {},
   "source": [
    "# Write Python Code to print these patterns \n"
   ]
  },
  {
   "cell_type": "markdown",
   "id": "91500d83",
   "metadata": {},
   "source": [
    "### Part A"
   ]
  },
  {
   "cell_type": "code",
   "execution_count": 20,
   "id": "eb5b2bfa",
   "metadata": {},
   "outputs": [
    {
     "name": "stdout",
     "output_type": "stream",
     "text": [
      "Enter n (must be odd) : 11\n",
      "---------------.|.---------------\n",
      "------------.|..|..|.------------\n",
      "---------.|..|..|..|..|.---------\n",
      "------.|..|..|..|..|..|..|.------\n",
      "---.|..|..|..|..|..|..|..|..|.---\n",
      "-------------WELCOME-------------\n",
      "---.|..|..|..|..|..|..|..|..|.---\n",
      "------.|..|..|..|..|..|..|.------\n",
      "---------.|..|..|..|..|.---------\n",
      "------------.|..|..|.------------\n",
      "---------------.|.---------------\n"
     ]
    }
   ],
   "source": [
    "def operation(n):\n",
    "    for i in range(n//2):\n",
    "        print('-'*(3*(n-2*i-1)//2),end=\"\")\n",
    "        print('.|.'*(2*i+1),end=\"\")\n",
    "        print('-'*(3*(n-2*i-1)//2))\n",
    "    print('-'*((3*n-7)//2)+'WELCOME'+'-'*((3*n-7)//2))\n",
    "    for i in range(n//2):\n",
    "        print('-'*(3*(n-2*(n//2)+2*i+1)//2),end=\"\")\n",
    "        print('.|.'*(2*(n//2)-2*i-1),end=\"\")\n",
    "        print('-'*(3*(n-2*(n//2)+2*i+1)//2))\n",
    "operation(int(input(\"Enter n (must be odd) : \")))"
   ]
  },
  {
   "cell_type": "markdown",
   "id": "5de8c5e4",
   "metadata": {},
   "source": [
    "### Part B"
   ]
  },
  {
   "cell_type": "code",
   "execution_count": 36,
   "id": "d6392066",
   "metadata": {},
   "outputs": [
    {
     "name": "stdout",
     "output_type": "stream",
     "text": [
      "Enter n between 1 to 26 : 21\n",
      "----------------------------------------u----------------------------------------\n",
      "--------------------------------------u-t-u--------------------------------------\n",
      "------------------------------------u-t-s-t-u------------------------------------\n",
      "----------------------------------u-t-s-r-s-t-u----------------------------------\n",
      "--------------------------------u-t-s-r-q-r-s-t-u--------------------------------\n",
      "------------------------------u-t-s-r-q-p-q-r-s-t-u------------------------------\n",
      "----------------------------u-t-s-r-q-p-o-p-q-r-s-t-u----------------------------\n",
      "--------------------------u-t-s-r-q-p-o-n-o-p-q-r-s-t-u--------------------------\n",
      "------------------------u-t-s-r-q-p-o-n-m-n-o-p-q-r-s-t-u------------------------\n",
      "----------------------u-t-s-r-q-p-o-n-m-l-m-n-o-p-q-r-s-t-u----------------------\n",
      "--------------------u-t-s-r-q-p-o-n-m-l-k-l-m-n-o-p-q-r-s-t-u--------------------\n",
      "------------------u-t-s-r-q-p-o-n-m-l-k-j-k-l-m-n-o-p-q-r-s-t-u------------------\n",
      "----------------u-t-s-r-q-p-o-n-m-l-k-j-i-j-k-l-m-n-o-p-q-r-s-t-u----------------\n",
      "--------------u-t-s-r-q-p-o-n-m-l-k-j-i-h-i-j-k-l-m-n-o-p-q-r-s-t-u--------------\n",
      "------------u-t-s-r-q-p-o-n-m-l-k-j-i-h-g-h-i-j-k-l-m-n-o-p-q-r-s-t-u------------\n",
      "----------u-t-s-r-q-p-o-n-m-l-k-j-i-h-g-f-g-h-i-j-k-l-m-n-o-p-q-r-s-t-u----------\n",
      "--------u-t-s-r-q-p-o-n-m-l-k-j-i-h-g-f-e-f-g-h-i-j-k-l-m-n-o-p-q-r-s-t-u--------\n",
      "------u-t-s-r-q-p-o-n-m-l-k-j-i-h-g-f-e-d-e-f-g-h-i-j-k-l-m-n-o-p-q-r-s-t-u------\n",
      "----u-t-s-r-q-p-o-n-m-l-k-j-i-h-g-f-e-d-c-d-e-f-g-h-i-j-k-l-m-n-o-p-q-r-s-t-u----\n",
      "--u-t-s-r-q-p-o-n-m-l-k-j-i-h-g-f-e-d-c-b-c-d-e-f-g-h-i-j-k-l-m-n-o-p-q-r-s-t-u--\n",
      "u-t-s-r-q-p-o-n-m-l-k-j-i-h-g-f-e-d-c-b-a-b-c-d-e-f-g-h-i-j-k-l-m-n-o-p-q-r-s-t-u\n",
      "--u-t-s-r-q-p-o-n-m-l-k-j-i-h-g-f-e-d-c-b-c-d-e-f-g-h-i-j-k-l-m-n-o-p-q-r-s-t-u--\n",
      "----u-t-s-r-q-p-o-n-m-l-k-j-i-h-g-f-e-d-c-d-e-f-g-h-i-j-k-l-m-n-o-p-q-r-s-t-u----\n",
      "------u-t-s-r-q-p-o-n-m-l-k-j-i-h-g-f-e-d-e-f-g-h-i-j-k-l-m-n-o-p-q-r-s-t-u------\n",
      "--------u-t-s-r-q-p-o-n-m-l-k-j-i-h-g-f-e-f-g-h-i-j-k-l-m-n-o-p-q-r-s-t-u--------\n",
      "----------u-t-s-r-q-p-o-n-m-l-k-j-i-h-g-f-g-h-i-j-k-l-m-n-o-p-q-r-s-t-u----------\n",
      "------------u-t-s-r-q-p-o-n-m-l-k-j-i-h-g-h-i-j-k-l-m-n-o-p-q-r-s-t-u------------\n",
      "--------------u-t-s-r-q-p-o-n-m-l-k-j-i-h-i-j-k-l-m-n-o-p-q-r-s-t-u--------------\n",
      "----------------u-t-s-r-q-p-o-n-m-l-k-j-i-j-k-l-m-n-o-p-q-r-s-t-u----------------\n",
      "------------------u-t-s-r-q-p-o-n-m-l-k-j-k-l-m-n-o-p-q-r-s-t-u------------------\n",
      "--------------------u-t-s-r-q-p-o-n-m-l-k-l-m-n-o-p-q-r-s-t-u--------------------\n",
      "----------------------u-t-s-r-q-p-o-n-m-l-m-n-o-p-q-r-s-t-u----------------------\n",
      "------------------------u-t-s-r-q-p-o-n-m-n-o-p-q-r-s-t-u------------------------\n",
      "--------------------------u-t-s-r-q-p-o-n-o-p-q-r-s-t-u--------------------------\n",
      "----------------------------u-t-s-r-q-p-o-p-q-r-s-t-u----------------------------\n",
      "------------------------------u-t-s-r-q-p-q-r-s-t-u------------------------------\n",
      "--------------------------------u-t-s-r-q-r-s-t-u--------------------------------\n",
      "----------------------------------u-t-s-r-s-t-u----------------------------------\n",
      "------------------------------------u-t-s-t-u------------------------------------\n",
      "--------------------------------------u-t-u--------------------------------------\n",
      "----------------------------------------u----------------------------------------\n"
     ]
    }
   ],
   "source": [
    "def operation(n):\n",
    "    f=0\n",
    "    for i in range(n):\n",
    "        print('-'*(2*n-2*i-2),end=\"\")\n",
    "        t=0\n",
    "        for j in range(4*i+1):\n",
    "            if(j%2):\n",
    "                print('-',end=\"\")\n",
    "                continue\n",
    "            else:\n",
    "                if(t>i):\n",
    "                    f=1\n",
    "                if(f):\n",
    "                    t-=1\n",
    "                else:\n",
    "                    t+=1\n",
    "                print(chr(96+n-t+1),end=\"\")\n",
    "        f=0\n",
    "        print('-'*(2*n-2*i-2))\n",
    "\n",
    "    f=0\n",
    "    for i in range(1,n):\n",
    "        print('-'*(2*i),end=\"\")\n",
    "        t=0\n",
    "        for j in range(4*n-3-4*i):\n",
    "            if(j%2):\n",
    "                print('-',end=\"\")\n",
    "                continue\n",
    "            else:\n",
    "                if(t>n-i-1):\n",
    "                    f=1\n",
    "                if(f):\n",
    "                    t-=1\n",
    "                else:\n",
    "                    t+=1\n",
    "                print(chr(96+n-t+1),end=\"\")\n",
    "        f=0\n",
    "        print('-'*(2*i))\n",
    "        \n",
    "operation(int(input(\"Enter n between 1 to 26 : \")))"
   ]
  }
 ],
 "metadata": {
  "kernelspec": {
   "display_name": "Python 3 (ipykernel)",
   "language": "python",
   "name": "python3"
  },
  "language_info": {
   "codemirror_mode": {
    "name": "ipython",
    "version": 3
   },
   "file_extension": ".py",
   "mimetype": "text/x-python",
   "name": "python",
   "nbconvert_exporter": "python",
   "pygments_lexer": "ipython3",
   "version": "3.11.1"
  }
 },
 "nbformat": 4,
 "nbformat_minor": 5
}
