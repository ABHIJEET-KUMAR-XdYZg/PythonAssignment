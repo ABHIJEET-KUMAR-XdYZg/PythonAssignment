{
 "cells": [
  {
   "cell_type": "markdown",
   "id": "62866c46",
   "metadata": {},
   "source": [
    "# Define following \n",
    "\n",
    "    Atomic data types / Primary data types \n",
    "\n",
    "    Secondary data type / User Defined Data Type "
   ]
  },
  {
   "cell_type": "markdown",
   "id": "a95a561e",
   "metadata": {},
   "source": [
    "Atomic Data Types (Primary Data Types):\n",
    "Atomic data types, also known as primary data types, refer to the basic building blocks of data in a programming language. These types represent simple, indivisible values. Common examples of atomic data types include integers, floating-point numbers, characters, and booleans.\n",
    "\n",
    "Secondary Data Types:\n",
    "Secondary data types, also known as derived data types, are constructed from primary data types or other secondary data types. These types are typically defined by the programmer and are not inherent to the programming language. Examples of secondary data types include arrays, structures, classes, and enumerations.\n",
    "\n",
    "User-Defined Data Types:\n",
    "User-defined data types are a specific subset of secondary data types that are created by the programmer to represent custom data structures. These types are defined using the language's features for creating new types, such as classes or structures. "
   ]
  }
 ],
 "metadata": {
  "kernelspec": {
   "display_name": "Python 3 (ipykernel)",
   "language": "python",
   "name": "python3"
  },
  "language_info": {
   "codemirror_mode": {
    "name": "ipython",
    "version": 3
   },
   "file_extension": ".py",
   "mimetype": "text/x-python",
   "name": "python",
   "nbconvert_exporter": "python",
   "pygments_lexer": "ipython3",
   "version": "3.11.1"
  }
 },
 "nbformat": 4,
 "nbformat_minor": 5
}
