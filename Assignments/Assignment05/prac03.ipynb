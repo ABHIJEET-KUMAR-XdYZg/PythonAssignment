{
 "cells": [
  {
   "cell_type": "markdown",
   "id": "f08f7add",
   "metadata": {},
   "source": [
    "# This chapter introduced assignment statements, like spam = 10. What is the difference between an expression and a statement? "
   ]
  },
  {
   "cell_type": "markdown",
   "id": "7119aa91",
   "metadata": {},
   "source": [
    "An expression is a combination of values, variables, operators, and function calls that evaluates to a single value. \n",
    "\n",
    "On the other hand, a statement is a unit of code that performs an action or controls the flow of execution."
   ]
  }
 ],
 "metadata": {
  "kernelspec": {
   "display_name": "Python 3 (ipykernel)",
   "language": "python",
   "name": "python3"
  },
  "language_info": {
   "codemirror_mode": {
    "name": "ipython",
    "version": 3
   },
   "file_extension": ".py",
   "mimetype": "text/x-python",
   "name": "python",
   "nbconvert_exporter": "python",
   "pygments_lexer": "ipython3",
   "version": "3.11.1"
  }
 },
 "nbformat": 4,
 "nbformat_minor": 5
}
