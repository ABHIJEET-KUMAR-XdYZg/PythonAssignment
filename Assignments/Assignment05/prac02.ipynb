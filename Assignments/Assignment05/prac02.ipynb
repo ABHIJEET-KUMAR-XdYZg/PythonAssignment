{
 "cells": [
  {
   "cell_type": "markdown",
   "id": "d4473d57",
   "metadata": {},
   "source": [
    "# You want to create a library management application, you need to store data about books, students in your program, how will you store data inside python using list? Create some lists with fake data to store information about library management. "
   ]
  },
  {
   "cell_type": "code",
   "execution_count": 1,
   "id": "fad99853",
   "metadata": {},
   "outputs": [],
   "source": [
    "books = [\n",
    "    {'title': 'Book 1', 'author': 'Author 1', 'ISBN': 'ISBN 1'},\n",
    "    {'title': 'Book 2', 'author': 'Author 2', 'ISBN': 'ISBN 2'},\n",
    "    {'title': 'Book 3', 'author': 'Author 3', 'ISBN': 'ISBN 3'},\n",
    "]\n",
    "students = [\n",
    "    {'name': 'Student 1', 'id': 'ID 1', 'books_taken': ['Book 1', 'Book 3']},\n",
    "    {'name': 'Student 2', 'id': 'ID 2', 'books_taken': ['Book 2']},\n",
    "    {'name': 'Student 3', 'id': 'ID 3', 'books_taken': []},\n",
    "]"
   ]
  }
 ],
 "metadata": {
  "kernelspec": {
   "display_name": "Python 3 (ipykernel)",
   "language": "python",
   "name": "python3"
  },
  "language_info": {
   "codemirror_mode": {
    "name": "ipython",
    "version": 3
   },
   "file_extension": ".py",
   "mimetype": "text/x-python",
   "name": "python",
   "nbconvert_exporter": "python",
   "pygments_lexer": "ipython3",
   "version": "3.11.1"
  }
 },
 "nbformat": 4,
 "nbformat_minor": 5
}
