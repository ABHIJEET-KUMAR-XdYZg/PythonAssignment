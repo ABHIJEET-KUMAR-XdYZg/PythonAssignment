{
 "cells": [
  {
   "cell_type": "markdown",
   "id": "81248718",
   "metadata": {},
   "source": [
    "# What is difference between shallow copy and deep copy? "
   ]
  },
  {
   "cell_type": "markdown",
   "id": "4c2712d2",
   "metadata": {},
   "source": [
    "### Shallow Copy"
   ]
  },
  {
   "cell_type": "markdown",
   "id": "3ae7deb2",
   "metadata": {},
   "source": [
    "Shallow Copy: In Python, a shallow copy creates a new object but keeps the references to the objects in the original object."
   ]
  },
  {
   "cell_type": "code",
   "execution_count": 1,
   "id": "1c8c60be",
   "metadata": {},
   "outputs": [
    {
     "name": "stdout",
     "output_type": "stream",
     "text": [
      "[1, 2, [30, 4]]\n",
      "[10, 2, [30, 4]]\n"
     ]
    }
   ],
   "source": [
    "import copy\n",
    "\n",
    "original_list = [1, 2, [3, 4]]\n",
    "shallow_copy = copy.copy(original_list)\n",
    "\n",
    "shallow_copy[0] = 10  \n",
    "shallow_copy[2][0] = 30 \n",
    "print(original_list)  \n",
    "print(shallow_copy)"
   ]
  },
  {
   "cell_type": "markdown",
   "id": "4cf88731",
   "metadata": {},
   "source": [
    "### Deep Copy"
   ]
  },
  {
   "cell_type": "markdown",
   "id": "6d343a72",
   "metadata": {},
   "source": [
    "A deep copy creates a completely independent object with its own copy of all the objects nested within. Any changes made to the deep copy do not affect the original object or any nested objects"
   ]
  },
  {
   "cell_type": "code",
   "execution_count": 2,
   "id": "311df604",
   "metadata": {},
   "outputs": [
    {
     "name": "stdout",
     "output_type": "stream",
     "text": [
      "[1, 2, [3, 4]]\n",
      "[10, 2, [30, 4]]\n"
     ]
    }
   ],
   "source": [
    "import copy\n",
    "\n",
    "original_list = [1, 2, [3, 4]]\n",
    "deep_copy = copy.deepcopy(original_list)\n",
    "\n",
    "deep_copy[0] = 10  \n",
    "deep_copy[2][0] = 30 \n",
    "print(original_list)  \n",
    "print(deep_copy)  "
   ]
  }
 ],
 "metadata": {
  "kernelspec": {
   "display_name": "Python 3 (ipykernel)",
   "language": "python",
   "name": "python3"
  },
  "language_info": {
   "codemirror_mode": {
    "name": "ipython",
    "version": 3
   },
   "file_extension": ".py",
   "mimetype": "text/x-python",
   "name": "python",
   "nbconvert_exporter": "python",
   "pygments_lexer": "ipython3",
   "version": "3.11.1"
  }
 },
 "nbformat": 4,
 "nbformat_minor": 5
}
