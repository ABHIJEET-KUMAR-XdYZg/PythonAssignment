{
 "cells": [
  {
   "cell_type": "markdown",
   "id": "efd8ab6c",
   "metadata": {},
   "source": [
    "# Read till Chapter-1 to Chapter - 5 from book I shared called Learning Python "
   ]
  },
  {
   "cell_type": "markdown",
   "id": "ddb4ec90",
   "metadata": {},
   "source": [
    "Doing"
   ]
  }
 ],
 "metadata": {
  "kernelspec": {
   "display_name": "Python 3 (ipykernel)",
   "language": "python",
   "name": "python3"
  },
  "language_info": {
   "codemirror_mode": {
    "name": "ipython",
    "version": 3
   },
   "file_extension": ".py",
   "mimetype": "text/x-python",
   "name": "python",
   "nbconvert_exporter": "python",
   "pygments_lexer": "ipython3",
   "version": "3.11.1"
  }
 },
 "nbformat": 4,
 "nbformat_minor": 5
}
