{
 "cells": [
  {
   "cell_type": "markdown",
   "id": "0343a48b",
   "metadata": {},
   "source": [
    "# Write down types of each value given? (In python) \n",
    "\n",
    "    100 \n",
    "\n",
    "    105.5 \n",
    "\n",
    "    192.56j \n",
    "\n",
    "    10+6j  \n",
    "\n",
    "    ‘10’ \n",
    "\n",
    "    ‘Hello world’5  \n",
    "\n",
    "    [ 10, 20, 50, 100] \n",
    "\n",
    "    {‘name’: ‘sachin’, ‘age’: 24, ‘language’: ‘python’} "
   ]
  },
  {
   "cell_type": "code",
   "execution_count": null,
   "id": "59e7e3fc",
   "metadata": {},
   "outputs": [],
   "source": [
    "\"\"\"\n",
    "int\n",
    "float\n",
    "complex\n",
    "complex\n",
    "str\n",
    "No Data type(Error)\n",
    "list\n",
    "dict\n",
    "\"\"\""
   ]
  }
 ],
 "metadata": {
  "kernelspec": {
   "display_name": "Python 3 (ipykernel)",
   "language": "python",
   "name": "python3"
  },
  "language_info": {
   "codemirror_mode": {
    "name": "ipython",
    "version": 3
   },
   "file_extension": ".py",
   "mimetype": "text/x-python",
   "name": "python",
   "nbconvert_exporter": "python",
   "pygments_lexer": "ipython3",
   "version": "3.11.1"
  }
 },
 "nbformat": 4,
 "nbformat_minor": 5
}
