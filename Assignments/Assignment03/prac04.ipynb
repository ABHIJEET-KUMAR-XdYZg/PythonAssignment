{
 "cells": [
  {
   "cell_type": "markdown",
   "id": "5b1b610a",
   "metadata": {},
   "source": [
    "# What is difference between ordered data type and unordered data type?  "
   ]
  },
  {
   "cell_type": "markdown",
   "id": "a8a8837f",
   "metadata": {},
   "source": [
    "Ordered Data Type:\n",
    "\n",
    "Ordered data types maintain a specific order for their elements.\n",
    "Elements are stored in a particular sequence or arrangement, and their relative positions are fixed.\n",
    "Elements can be accessed by their positions (indices) within the data structure.\n",
    "Examples of ordered data types include arrays, lists, tuples, and strings.\n",
    "Unordered Data Type:\n",
    "\n",
    "Unordered data types do not enforce or maintain a specific order for their elements.\n",
    "The elements are not stored in a particular sequence, and their relative positions may vary.\n",
    "Elements are typically accessed based on their values rather than their positions.\n",
    "Examples of unordered data types include sets and dictionaries."
   ]
  },
  {
   "cell_type": "code",
   "execution_count": null,
   "id": "18d85274",
   "metadata": {},
   "outputs": [],
   "source": []
  }
 ],
 "metadata": {
  "kernelspec": {
   "display_name": "Python 3 (ipykernel)",
   "language": "python",
   "name": "python3"
  },
  "language_info": {
   "codemirror_mode": {
    "name": "ipython",
    "version": 3
   },
   "file_extension": ".py",
   "mimetype": "text/x-python",
   "name": "python",
   "nbconvert_exporter": "python",
   "pygments_lexer": "ipython3",
   "version": "3.11.1"
  }
 },
 "nbformat": 4,
 "nbformat_minor": 5
}
