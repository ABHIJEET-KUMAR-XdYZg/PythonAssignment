{
 "cells": [
  {
   "cell_type": "markdown",
   "id": "c7cd7daa",
   "metadata": {},
   "source": [
    "#  What are Data Structures? List some of data structures and their use in real world application? "
   ]
  },
  {
   "cell_type": "markdown",
   "id": "3285a004",
   "metadata": {},
   "source": [
    "Data structures are fundamental concepts in computer science that allow efficient organization, management, and storage of data. "
   ]
  },
  {
   "cell_type": "code",
   "execution_count": null,
   "id": "e38d94a5",
   "metadata": {},
   "outputs": [],
   "source": [
    "\"\"\"\n",
    "Arrays: Arrays are a collection of elements of the same type stored in contiguous memory locations. They are widely used for simple and efficient storage of data, such as lists, matrices, or tables.\n",
    "\n",
    "Linked Lists: Linked lists consist of nodes that contain data and a reference to the next node in the list. They are useful for dynamic data structures that require frequent insertions and deletions, like implementing stacks, queues, or hash tables.\n",
    "\n",
    "Stacks: Stacks follow the Last-In-First-Out (LIFO) principle, where the last item added is the first one to be removed. They are used in applications that involve recursive function calls, expression evaluation, and undo/redo operations.\n",
    "\n",
    "Queues: Queues follow the First-In-First-Out (FIFO) principle, where the first item added is the first one to be removed. They are utilized in scenarios such as job scheduling, message passing between processes, and breadth-first search algorithms.\n",
    "\n",
    "Trees: Trees are hierarchical data structures composed of nodes connected by edges. They find applications in file systems, XML/HTML parsing, decision-making algorithms (e.g., decision trees), and organizing hierarchical data like organization charts.\n",
    "\n",
    "Graphs: Graphs consist of a set of vertices connected by edges. They are employed in various domains, such as social networks, transportation networks, web page crawling, and optimization problems like the shortest path algorithms.\n",
    "\n",
    "Hash Tables: Hash tables store data in key-value pairs, providing efficient insertion, deletion, and retrieval operations. They are used extensively in databases, caching mechanisms, symbol tables, and implementing associative arrays.\n",
    "\n",
    "Heaps: Heaps are binary trees that satisfy the heap property, where each parent node has a value greater (or smaller) than its children. They are used in priority queues, scheduling algorithms, and graph algorithms like Dijkstra's algorithm.\n",
    "\"\"\""
   ]
  }
 ],
 "metadata": {
  "kernelspec": {
   "display_name": "Python 3 (ipykernel)",
   "language": "python",
   "name": "python3"
  },
  "language_info": {
   "codemirror_mode": {
    "name": "ipython",
    "version": 3
   },
   "file_extension": ".py",
   "mimetype": "text/x-python",
   "name": "python",
   "nbconvert_exporter": "python",
   "pygments_lexer": "ipython3",
   "version": "3.11.1"
  }
 },
 "nbformat": 4,
 "nbformat_minor": 5
}
