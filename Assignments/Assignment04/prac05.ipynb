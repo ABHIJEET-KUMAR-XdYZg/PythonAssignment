{
 "cells": [
  {
   "cell_type": "markdown",
   "id": "c0ba4b95",
   "metadata": {},
   "source": [
    "# What are identifiers, list rules of identifiers in python  "
   ]
  },
  {
   "cell_type": "markdown",
   "id": "e80eb787",
   "metadata": {},
   "source": [
    "Identifiers are names used to identify variables, functions, classes, modules, or other entities in Python. "
   ]
  },
  {
   "cell_type": "code",
   "execution_count": null,
   "id": "4ec3e7f1",
   "metadata": {},
   "outputs": [],
   "source": [
    "\"\"\"\n",
    "Valid Characters:\n",
    "\n",
    "An identifier can consist of uppercase letters (A-Z), lowercase letters (a-z), digits (0-9), and underscores (_).\n",
    "The first character of an identifier cannot be a digit.\n",
    "Case Sensitivity:\n",
    "\n",
    "Python is case-sensitive, so uppercase and lowercase letters are considered distinct.\n",
    "For example, \"myVariable\" and \"myvariable\" are treated as two different identifiers.\n",
    "Reserved Words:\n",
    "\n",
    "You cannot use reserved words, also known as keywords, as identifiers.\n",
    "Keywords are predefined words in Python that have special meanings and are used for specific purposes.\n",
    "Examples of keywords in Python include \"if,\" \"else,\" \"for,\" \"while,\" \"def,\" \"class,\" and \"import.\"\n",
    "Length Limitation:\n",
    "\n",
    "Identifiers can be of any length.\n",
    "However, it is recommended to keep identifiers concise and meaningful to enhance code readability.\n",
    "Best Practices:\n",
    "\n",
    "Use descriptive names that reflect the purpose or meaning of the entity being identified.\n",
    "Separate words in an identifier using underscores to improve readability.\n",
    "Avoid using single-character names or ambiguous names that can lead to confusion.\n",
    "\"\"\""
   ]
  }
 ],
 "metadata": {
  "kernelspec": {
   "display_name": "Python 3 (ipykernel)",
   "language": "python",
   "name": "python3"
  },
  "language_info": {
   "codemirror_mode": {
    "name": "ipython",
    "version": 3
   },
   "file_extension": ".py",
   "mimetype": "text/x-python",
   "name": "python",
   "nbconvert_exporter": "python",
   "pygments_lexer": "ipython3",
   "version": "3.11.1"
  }
 },
 "nbformat": 4,
 "nbformat_minor": 5
}
