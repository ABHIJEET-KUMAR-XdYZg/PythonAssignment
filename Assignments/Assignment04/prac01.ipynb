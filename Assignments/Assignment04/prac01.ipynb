{
 "cells": [
  {
   "cell_type": "markdown",
   "id": "b84bef37",
   "metadata": {},
   "source": [
    "# Explore split, strip, replace, center, title methods of string data type in python "
   ]
  },
  {
   "cell_type": "code",
   "execution_count": 1,
   "id": "c6a7b234",
   "metadata": {},
   "outputs": [
    {
     "name": "stdout",
     "output_type": "stream",
     "text": [
      "['Hello,', 'world!', 'How', 'are', 'you?']\n"
     ]
    }
   ],
   "source": [
    "sentence = \"Hello, world! How are you?\"\n",
    "words = sentence.split()\n",
    "print(words)"
   ]
  },
  {
   "cell_type": "code",
   "execution_count": 2,
   "id": "69f8e719",
   "metadata": {},
   "outputs": [
    {
     "name": "stdout",
     "output_type": "stream",
     "text": [
      "['Hello', 'world', 'How', 'are', 'you?']\n"
     ]
    }
   ],
   "source": [
    "sentence = \"Hello|world|How|are|you?\"\n",
    "words = sentence.split(\"|\")\n",
    "print(words)"
   ]
  },
  {
   "cell_type": "code",
   "execution_count": 3,
   "id": "5e221818",
   "metadata": {},
   "outputs": [
    {
     "name": "stdout",
     "output_type": "stream",
     "text": [
      "Hello, world!\n"
     ]
    }
   ],
   "source": [
    "text = \"   Hello, world!   \"\n",
    "stripped_text = text.strip()\n",
    "print(stripped_text)"
   ]
  },
  {
   "cell_type": "code",
   "execution_count": 4,
   "id": "fb05a275",
   "metadata": {},
   "outputs": [
    {
     "name": "stdout",
     "output_type": "stream",
     "text": [
      "Hi, world!\n"
     ]
    }
   ],
   "source": [
    "text = \"Hello, world!\"\n",
    "new_text = text.replace(\"Hello\", \"Hi\")\n",
    "print(new_text)"
   ]
  },
  {
   "cell_type": "code",
   "execution_count": 5,
   "id": "873086e2",
   "metadata": {},
   "outputs": [
    {
     "name": "stdout",
     "output_type": "stream",
     "text": [
      "--Hello---\n"
     ]
    }
   ],
   "source": [
    "text = \"Hello\"\n",
    "centered_text = text.center(10, \"-\")\n",
    "print(centered_text)"
   ]
  },
  {
   "cell_type": "code",
   "execution_count": 6,
   "id": "010f6f23",
   "metadata": {},
   "outputs": [
    {
     "name": "stdout",
     "output_type": "stream",
     "text": [
      "Hello, World!\n"
     ]
    }
   ],
   "source": [
    "text = \"hello, world!\"\n",
    "title_text = text.title()\n",
    "print(title_text)"
   ]
  }
 ],
 "metadata": {
  "kernelspec": {
   "display_name": "Python 3 (ipykernel)",
   "language": "python",
   "name": "python3"
  },
  "language_info": {
   "codemirror_mode": {
    "name": "ipython",
    "version": 3
   },
   "file_extension": ".py",
   "mimetype": "text/x-python",
   "name": "python",
   "nbconvert_exporter": "python",
   "pygments_lexer": "ipython3",
   "version": "3.11.1"
  }
 },
 "nbformat": 4,
 "nbformat_minor": 5
}
