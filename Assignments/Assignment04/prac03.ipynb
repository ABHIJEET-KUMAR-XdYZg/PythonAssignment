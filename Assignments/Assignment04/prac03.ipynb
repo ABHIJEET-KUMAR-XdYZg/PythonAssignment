{
 "cells": [
  {
   "cell_type": "markdown",
   "id": "deee8fae",
   "metadata": {},
   "source": [
    "# Create 5 real time lists to store some useful information in python eg. Language = [ ‘java’, ‘c’, ‘c++’, ‘ruby’ ] "
   ]
  },
  {
   "cell_type": "code",
   "execution_count": 1,
   "id": "907b6f1c",
   "metadata": {},
   "outputs": [],
   "source": [
    "Language = ['Java', 'C', 'C++', 'Ruby']\n",
    "Countries = ['USA', 'Canada', 'India', 'Australia']\n",
    "Fruits = ['Apple', 'Banana', 'Orange', 'Mango']\n",
    "Colors = ['Red', 'Green', 'Blue', 'Yellow']\n",
    "Cities = ['Mumbai', 'Delhi', 'Bangalore','Jaipur']"
   ]
  }
 ],
 "metadata": {
  "kernelspec": {
   "display_name": "Python 3 (ipykernel)",
   "language": "python",
   "name": "python3"
  },
  "language_info": {
   "codemirror_mode": {
    "name": "ipython",
    "version": 3
   },
   "file_extension": ".py",
   "mimetype": "text/x-python",
   "name": "python",
   "nbconvert_exporter": "python",
   "pygments_lexer": "ipython3",
   "version": "3.11.1"
  }
 },
 "nbformat": 4,
 "nbformat_minor": 5
}
