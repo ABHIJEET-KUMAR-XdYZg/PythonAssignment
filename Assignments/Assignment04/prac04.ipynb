{
 "cells": [
  {
   "cell_type": "markdown",
   "id": "3619c551",
   "metadata": {},
   "source": [
    "# What is difference between mutable and immutable data types in python "
   ]
  },
  {
   "cell_type": "markdown",
   "id": "4dcc998c",
   "metadata": {},
   "source": [
    "### Mutable"
   ]
  },
  {
   "cell_type": "markdown",
   "id": "19e1ce87",
   "metadata": {},
   "source": [
    "Mutable data types can be modified after they are created. This means that you can change their values, add or remove elements, or update specific elements in-place."
   ]
  },
  {
   "cell_type": "markdown",
   "id": "ff2e5299",
   "metadata": {},
   "source": [
    "### Immutable"
   ]
  },
  {
   "cell_type": "markdown",
   "id": "8bc7c258",
   "metadata": {},
   "source": [
    "Immutable data types cannot be modified once they are created. Once an immutable object is assigned a value, it cannot be changed. If you want to modify an immutable object, we need to create a new object with the desired value."
   ]
  }
 ],
 "metadata": {
  "kernelspec": {
   "display_name": "Python 3 (ipykernel)",
   "language": "python",
   "name": "python3"
  },
  "language_info": {
   "codemirror_mode": {
    "name": "ipython",
    "version": 3
   },
   "file_extension": ".py",
   "mimetype": "text/x-python",
   "name": "python",
   "nbconvert_exporter": "python",
   "pygments_lexer": "ipython3",
   "version": "3.11.1"
  }
 },
 "nbformat": 4,
 "nbformat_minor": 5
}
